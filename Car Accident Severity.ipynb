{
 "cells": [
  {
   "cell_type": "markdown",
   "metadata": {},
   "source": [
    "# 1. Data Cleaning"
   ]
  },
  {
   "cell_type": "markdown",
   "metadata": {},
   "source": [
    "We saved the original data as df_data_1. This dataset contains 37 attributes."
   ]
  },
  {
   "cell_type": "code",
   "execution_count": 2,
   "metadata": {},
   "outputs": [
    {
     "data": {
      "text/html": [
       "<div>\n",
       "<style scoped>\n",
       "    .dataframe tbody tr th:only-of-type {\n",
       "        vertical-align: middle;\n",
       "    }\n",
       "\n",
       "    .dataframe tbody tr th {\n",
       "        vertical-align: top;\n",
       "    }\n",
       "\n",
       "    .dataframe thead th {\n",
       "        text-align: right;\n",
       "    }\n",
       "</style>\n",
       "<table border=\"1\" class=\"dataframe\">\n",
       "  <thead>\n",
       "    <tr style=\"text-align: right;\">\n",
       "      <th></th>\n",
       "      <th>SEVERITYCODE</th>\n",
       "      <th>X</th>\n",
       "      <th>Y</th>\n",
       "      <th>OBJECTID</th>\n",
       "      <th>INCKEY</th>\n",
       "      <th>COLDETKEY</th>\n",
       "      <th>REPORTNO</th>\n",
       "      <th>STATUS</th>\n",
       "      <th>ADDRTYPE</th>\n",
       "      <th>INTKEY</th>\n",
       "      <th>...</th>\n",
       "      <th>ROADCOND</th>\n",
       "      <th>LIGHTCOND</th>\n",
       "      <th>PEDROWNOTGRNT</th>\n",
       "      <th>SDOTCOLNUM</th>\n",
       "      <th>SPEEDING</th>\n",
       "      <th>ST_COLCODE</th>\n",
       "      <th>ST_COLDESC</th>\n",
       "      <th>SEGLANEKEY</th>\n",
       "      <th>CROSSWALKKEY</th>\n",
       "      <th>HITPARKEDCAR</th>\n",
       "    </tr>\n",
       "  </thead>\n",
       "  <tbody>\n",
       "    <tr>\n",
       "      <th>0</th>\n",
       "      <td>2</td>\n",
       "      <td>-122.323148</td>\n",
       "      <td>47.703140</td>\n",
       "      <td>1</td>\n",
       "      <td>1307</td>\n",
       "      <td>1307</td>\n",
       "      <td>3502005</td>\n",
       "      <td>Matched</td>\n",
       "      <td>Intersection</td>\n",
       "      <td>37475.0</td>\n",
       "      <td>...</td>\n",
       "      <td>Wet</td>\n",
       "      <td>Daylight</td>\n",
       "      <td>NaN</td>\n",
       "      <td>NaN</td>\n",
       "      <td>NaN</td>\n",
       "      <td>10</td>\n",
       "      <td>Entering at angle</td>\n",
       "      <td>0</td>\n",
       "      <td>0</td>\n",
       "      <td>N</td>\n",
       "    </tr>\n",
       "    <tr>\n",
       "      <th>1</th>\n",
       "      <td>1</td>\n",
       "      <td>-122.347294</td>\n",
       "      <td>47.647172</td>\n",
       "      <td>2</td>\n",
       "      <td>52200</td>\n",
       "      <td>52200</td>\n",
       "      <td>2607959</td>\n",
       "      <td>Matched</td>\n",
       "      <td>Block</td>\n",
       "      <td>NaN</td>\n",
       "      <td>...</td>\n",
       "      <td>Wet</td>\n",
       "      <td>Dark - Street Lights On</td>\n",
       "      <td>NaN</td>\n",
       "      <td>6354039.0</td>\n",
       "      <td>NaN</td>\n",
       "      <td>11</td>\n",
       "      <td>From same direction - both going straight - bo...</td>\n",
       "      <td>0</td>\n",
       "      <td>0</td>\n",
       "      <td>N</td>\n",
       "    </tr>\n",
       "    <tr>\n",
       "      <th>2</th>\n",
       "      <td>1</td>\n",
       "      <td>-122.334540</td>\n",
       "      <td>47.607871</td>\n",
       "      <td>3</td>\n",
       "      <td>26700</td>\n",
       "      <td>26700</td>\n",
       "      <td>1482393</td>\n",
       "      <td>Matched</td>\n",
       "      <td>Block</td>\n",
       "      <td>NaN</td>\n",
       "      <td>...</td>\n",
       "      <td>Dry</td>\n",
       "      <td>Daylight</td>\n",
       "      <td>NaN</td>\n",
       "      <td>4323031.0</td>\n",
       "      <td>NaN</td>\n",
       "      <td>32</td>\n",
       "      <td>One parked--one moving</td>\n",
       "      <td>0</td>\n",
       "      <td>0</td>\n",
       "      <td>N</td>\n",
       "    </tr>\n",
       "    <tr>\n",
       "      <th>3</th>\n",
       "      <td>1</td>\n",
       "      <td>-122.334803</td>\n",
       "      <td>47.604803</td>\n",
       "      <td>4</td>\n",
       "      <td>1144</td>\n",
       "      <td>1144</td>\n",
       "      <td>3503937</td>\n",
       "      <td>Matched</td>\n",
       "      <td>Block</td>\n",
       "      <td>NaN</td>\n",
       "      <td>...</td>\n",
       "      <td>Dry</td>\n",
       "      <td>Daylight</td>\n",
       "      <td>NaN</td>\n",
       "      <td>NaN</td>\n",
       "      <td>NaN</td>\n",
       "      <td>23</td>\n",
       "      <td>From same direction - all others</td>\n",
       "      <td>0</td>\n",
       "      <td>0</td>\n",
       "      <td>N</td>\n",
       "    </tr>\n",
       "    <tr>\n",
       "      <th>4</th>\n",
       "      <td>2</td>\n",
       "      <td>-122.306426</td>\n",
       "      <td>47.545739</td>\n",
       "      <td>5</td>\n",
       "      <td>17700</td>\n",
       "      <td>17700</td>\n",
       "      <td>1807429</td>\n",
       "      <td>Matched</td>\n",
       "      <td>Intersection</td>\n",
       "      <td>34387.0</td>\n",
       "      <td>...</td>\n",
       "      <td>Wet</td>\n",
       "      <td>Daylight</td>\n",
       "      <td>NaN</td>\n",
       "      <td>4028032.0</td>\n",
       "      <td>NaN</td>\n",
       "      <td>10</td>\n",
       "      <td>Entering at angle</td>\n",
       "      <td>0</td>\n",
       "      <td>0</td>\n",
       "      <td>N</td>\n",
       "    </tr>\n",
       "  </tbody>\n",
       "</table>\n",
       "<p>5 rows × 38 columns</p>\n",
       "</div>"
      ],
      "text/plain": [
       "   SEVERITYCODE           X          Y  OBJECTID  INCKEY  COLDETKEY REPORTNO  \\\n",
       "0             2 -122.323148  47.703140         1    1307       1307  3502005   \n",
       "1             1 -122.347294  47.647172         2   52200      52200  2607959   \n",
       "2             1 -122.334540  47.607871         3   26700      26700  1482393   \n",
       "3             1 -122.334803  47.604803         4    1144       1144  3503937   \n",
       "4             2 -122.306426  47.545739         5   17700      17700  1807429   \n",
       "\n",
       "    STATUS      ADDRTYPE   INTKEY  ... ROADCOND                LIGHTCOND  \\\n",
       "0  Matched  Intersection  37475.0  ...      Wet                 Daylight   \n",
       "1  Matched         Block      NaN  ...      Wet  Dark - Street Lights On   \n",
       "2  Matched         Block      NaN  ...      Dry                 Daylight   \n",
       "3  Matched         Block      NaN  ...      Dry                 Daylight   \n",
       "4  Matched  Intersection  34387.0  ...      Wet                 Daylight   \n",
       "\n",
       "  PEDROWNOTGRNT  SDOTCOLNUM SPEEDING ST_COLCODE  \\\n",
       "0           NaN         NaN      NaN         10   \n",
       "1           NaN   6354039.0      NaN         11   \n",
       "2           NaN   4323031.0      NaN         32   \n",
       "3           NaN         NaN      NaN         23   \n",
       "4           NaN   4028032.0      NaN         10   \n",
       "\n",
       "                                          ST_COLDESC  SEGLANEKEY  \\\n",
       "0                                  Entering at angle           0   \n",
       "1  From same direction - both going straight - bo...           0   \n",
       "2                             One parked--one moving           0   \n",
       "3                   From same direction - all others           0   \n",
       "4                                  Entering at angle           0   \n",
       "\n",
       "   CROSSWALKKEY  HITPARKEDCAR  \n",
       "0             0             N  \n",
       "1             0             N  \n",
       "2             0             N  \n",
       "3             0             N  \n",
       "4             0             N  \n",
       "\n",
       "[5 rows x 38 columns]"
      ]
     },
     "execution_count": 2,
     "metadata": {},
     "output_type": "execute_result"
    }
   ],
   "source": [
    "df_data_1.head()"
   ]
  },
  {
   "cell_type": "markdown",
   "metadata": {},
   "source": [
    "We retrieve SEVERITYCODE, ADDRTYPE, JUNCTIONTYPE, INATTENTIONIND, UNDERINFL, WEATHER, ROADCOND, LIGHTCOND, PEDROWNOTGRNT and SPEEDING from the original data."
   ]
  },
  {
   "cell_type": "code",
   "execution_count": 3,
   "metadata": {},
   "outputs": [],
   "source": [
    "df_1 = df_data_1.loc[:,[\"SEVERITYCODE\",\"ADDRTYPE\",\"INCDTTM\",\"JUNCTIONTYPE\",\"INATTENTIONIND\",\"UNDERINFL\",\"WEATHER\",\"ROADCOND\",\"LIGHTCOND\",\"PEDROWNOTGRNT\",\"SPEEDING\"]]"
   ]
  },
  {
   "cell_type": "markdown",
   "metadata": {},
   "source": [
    "We remove the cases by human factors from df_1 because we would like to find out the relation between the severity in collision and the surrounding conditions. For example, we leave the cases that \"inattentionind\" is not equal to \"Y\". "
   ]
  },
  {
   "cell_type": "code",
   "execution_count": 4,
   "metadata": {},
   "outputs": [],
   "source": [
    "df_2 = df_1[(df_1[\"INATTENTIONIND\"] != \"Y\") & (df_1[\"UNDERINFL\"] != \"Y\") & (df_1[\"UNDERINFL\"] != \"1\") & (df_1[\"PEDROWNOTGRNT\"] != \"Y\") & (df_1[\"SPEEDING\"] != \"Y\") ]"
   ]
  },
  {
   "cell_type": "markdown",
   "metadata": {},
   "source": [
    "We will show more detail. In df_1 dataset, No.22 collision is caused by inattention. This is a human factor and we want to drop such cases."
   ]
  },
  {
   "cell_type": "code",
   "execution_count": 28,
   "metadata": {},
   "outputs": [
    {
     "data": {
      "text/html": [
       "<div>\n",
       "<style scoped>\n",
       "    .dataframe tbody tr th:only-of-type {\n",
       "        vertical-align: middle;\n",
       "    }\n",
       "\n",
       "    .dataframe tbody tr th {\n",
       "        vertical-align: top;\n",
       "    }\n",
       "\n",
       "    .dataframe thead th {\n",
       "        text-align: right;\n",
       "    }\n",
       "</style>\n",
       "<table border=\"1\" class=\"dataframe\">\n",
       "  <thead>\n",
       "    <tr style=\"text-align: right;\">\n",
       "      <th></th>\n",
       "      <th>SEVERITYCODE</th>\n",
       "      <th>ADDRTYPE</th>\n",
       "      <th>INCDTTM</th>\n",
       "      <th>JUNCTIONTYPE</th>\n",
       "      <th>INATTENTIONIND</th>\n",
       "      <th>UNDERINFL</th>\n",
       "      <th>WEATHER</th>\n",
       "      <th>ROADCOND</th>\n",
       "      <th>LIGHTCOND</th>\n",
       "      <th>PEDROWNOTGRNT</th>\n",
       "      <th>SPEEDING</th>\n",
       "    </tr>\n",
       "  </thead>\n",
       "  <tbody>\n",
       "    <tr>\n",
       "      <th>0</th>\n",
       "      <td>2</td>\n",
       "      <td>Intersection</td>\n",
       "      <td>3/27/2013 2:54:00 PM</td>\n",
       "      <td>At Intersection (intersection related)</td>\n",
       "      <td>NaN</td>\n",
       "      <td>N</td>\n",
       "      <td>Overcast</td>\n",
       "      <td>Wet</td>\n",
       "      <td>Daylight</td>\n",
       "      <td>NaN</td>\n",
       "      <td>NaN</td>\n",
       "    </tr>\n",
       "    <tr>\n",
       "      <th>1</th>\n",
       "      <td>1</td>\n",
       "      <td>Block</td>\n",
       "      <td>12/20/2006 6:55:00 PM</td>\n",
       "      <td>Mid-Block (not related to intersection)</td>\n",
       "      <td>NaN</td>\n",
       "      <td>0</td>\n",
       "      <td>Raining</td>\n",
       "      <td>Wet</td>\n",
       "      <td>Dark - Street Lights On</td>\n",
       "      <td>NaN</td>\n",
       "      <td>NaN</td>\n",
       "    </tr>\n",
       "    <tr>\n",
       "      <th>2</th>\n",
       "      <td>1</td>\n",
       "      <td>Block</td>\n",
       "      <td>11/18/2004 10:20:00 AM</td>\n",
       "      <td>Mid-Block (not related to intersection)</td>\n",
       "      <td>NaN</td>\n",
       "      <td>0</td>\n",
       "      <td>Overcast</td>\n",
       "      <td>Dry</td>\n",
       "      <td>Daylight</td>\n",
       "      <td>NaN</td>\n",
       "      <td>NaN</td>\n",
       "    </tr>\n",
       "    <tr>\n",
       "      <th>3</th>\n",
       "      <td>1</td>\n",
       "      <td>Block</td>\n",
       "      <td>3/29/2013 9:26:00 AM</td>\n",
       "      <td>Mid-Block (not related to intersection)</td>\n",
       "      <td>NaN</td>\n",
       "      <td>N</td>\n",
       "      <td>Clear</td>\n",
       "      <td>Dry</td>\n",
       "      <td>Daylight</td>\n",
       "      <td>NaN</td>\n",
       "      <td>NaN</td>\n",
       "    </tr>\n",
       "    <tr>\n",
       "      <th>4</th>\n",
       "      <td>2</td>\n",
       "      <td>Intersection</td>\n",
       "      <td>1/28/2004 8:04:00 AM</td>\n",
       "      <td>At Intersection (intersection related)</td>\n",
       "      <td>NaN</td>\n",
       "      <td>0</td>\n",
       "      <td>Raining</td>\n",
       "      <td>Wet</td>\n",
       "      <td>Daylight</td>\n",
       "      <td>NaN</td>\n",
       "      <td>NaN</td>\n",
       "    </tr>\n",
       "    <tr>\n",
       "      <th>5</th>\n",
       "      <td>1</td>\n",
       "      <td>Intersection</td>\n",
       "      <td>4/20/2019 5:42:00 PM</td>\n",
       "      <td>At Intersection (intersection related)</td>\n",
       "      <td>NaN</td>\n",
       "      <td>N</td>\n",
       "      <td>Clear</td>\n",
       "      <td>Dry</td>\n",
       "      <td>Daylight</td>\n",
       "      <td>NaN</td>\n",
       "      <td>NaN</td>\n",
       "    </tr>\n",
       "    <tr>\n",
       "      <th>6</th>\n",
       "      <td>1</td>\n",
       "      <td>Intersection</td>\n",
       "      <td>12/9/2008</td>\n",
       "      <td>At Intersection (intersection related)</td>\n",
       "      <td>NaN</td>\n",
       "      <td>0</td>\n",
       "      <td>Raining</td>\n",
       "      <td>Wet</td>\n",
       "      <td>Daylight</td>\n",
       "      <td>NaN</td>\n",
       "      <td>NaN</td>\n",
       "    </tr>\n",
       "    <tr>\n",
       "      <th>7</th>\n",
       "      <td>2</td>\n",
       "      <td>Intersection</td>\n",
       "      <td>4/15/2020 5:47:00 PM</td>\n",
       "      <td>At Intersection (intersection related)</td>\n",
       "      <td>NaN</td>\n",
       "      <td>N</td>\n",
       "      <td>Clear</td>\n",
       "      <td>Dry</td>\n",
       "      <td>Daylight</td>\n",
       "      <td>NaN</td>\n",
       "      <td>NaN</td>\n",
       "    </tr>\n",
       "    <tr>\n",
       "      <th>8</th>\n",
       "      <td>1</td>\n",
       "      <td>Block</td>\n",
       "      <td>6/15/2006 1:00:00 PM</td>\n",
       "      <td>Mid-Block (not related to intersection)</td>\n",
       "      <td>NaN</td>\n",
       "      <td>0</td>\n",
       "      <td>Clear</td>\n",
       "      <td>Dry</td>\n",
       "      <td>Daylight</td>\n",
       "      <td>NaN</td>\n",
       "      <td>NaN</td>\n",
       "    </tr>\n",
       "    <tr>\n",
       "      <th>9</th>\n",
       "      <td>2</td>\n",
       "      <td>Intersection</td>\n",
       "      <td>3/20/2006 3:49:00 PM</td>\n",
       "      <td>At Intersection (intersection related)</td>\n",
       "      <td>NaN</td>\n",
       "      <td>0</td>\n",
       "      <td>Clear</td>\n",
       "      <td>Dry</td>\n",
       "      <td>Daylight</td>\n",
       "      <td>NaN</td>\n",
       "      <td>NaN</td>\n",
       "    </tr>\n",
       "    <tr>\n",
       "      <th>10</th>\n",
       "      <td>1</td>\n",
       "      <td>Alley</td>\n",
       "      <td>5/25/2006 6:20:00 PM</td>\n",
       "      <td>Driveway Junction</td>\n",
       "      <td>NaN</td>\n",
       "      <td>0</td>\n",
       "      <td>Overcast</td>\n",
       "      <td>Dry</td>\n",
       "      <td>Daylight</td>\n",
       "      <td>NaN</td>\n",
       "      <td>NaN</td>\n",
       "    </tr>\n",
       "    <tr>\n",
       "      <th>11</th>\n",
       "      <td>1</td>\n",
       "      <td>Intersection</td>\n",
       "      <td>8/11/2005 5:30:00 PM</td>\n",
       "      <td>At Intersection (intersection related)</td>\n",
       "      <td>NaN</td>\n",
       "      <td>0</td>\n",
       "      <td>Clear</td>\n",
       "      <td>Dry</td>\n",
       "      <td>Daylight</td>\n",
       "      <td>NaN</td>\n",
       "      <td>NaN</td>\n",
       "    </tr>\n",
       "    <tr>\n",
       "      <th>12</th>\n",
       "      <td>1</td>\n",
       "      <td>Block</td>\n",
       "      <td>5/17/2006 12:51:00 PM</td>\n",
       "      <td>Mid-Block (not related to intersection)</td>\n",
       "      <td>NaN</td>\n",
       "      <td>0</td>\n",
       "      <td>Raining</td>\n",
       "      <td>Wet</td>\n",
       "      <td>Dark - Street Lights On</td>\n",
       "      <td>NaN</td>\n",
       "      <td>NaN</td>\n",
       "    </tr>\n",
       "    <tr>\n",
       "      <th>13</th>\n",
       "      <td>1</td>\n",
       "      <td>Block</td>\n",
       "      <td>12/22/2005 5:13:00 PM</td>\n",
       "      <td>Mid-Block (not related to intersection)</td>\n",
       "      <td>NaN</td>\n",
       "      <td>0</td>\n",
       "      <td>Raining</td>\n",
       "      <td>Wet</td>\n",
       "      <td>Dark - No Street Lights</td>\n",
       "      <td>NaN</td>\n",
       "      <td>NaN</td>\n",
       "    </tr>\n",
       "    <tr>\n",
       "      <th>14</th>\n",
       "      <td>2</td>\n",
       "      <td>Block</td>\n",
       "      <td>3/31/2013 2:09:00 AM</td>\n",
       "      <td>Mid-Block (not related to intersection)</td>\n",
       "      <td>NaN</td>\n",
       "      <td>N</td>\n",
       "      <td>Clear</td>\n",
       "      <td>Dry</td>\n",
       "      <td>Dark - Street Lights On</td>\n",
       "      <td>NaN</td>\n",
       "      <td>NaN</td>\n",
       "    </tr>\n",
       "    <tr>\n",
       "      <th>15</th>\n",
       "      <td>1</td>\n",
       "      <td>Block</td>\n",
       "      <td>4/20/2020</td>\n",
       "      <td>Driveway Junction</td>\n",
       "      <td>NaN</td>\n",
       "      <td>NaN</td>\n",
       "      <td>NaN</td>\n",
       "      <td>NaN</td>\n",
       "      <td>NaN</td>\n",
       "      <td>NaN</td>\n",
       "      <td>NaN</td>\n",
       "    </tr>\n",
       "    <tr>\n",
       "      <th>16</th>\n",
       "      <td>2</td>\n",
       "      <td>Intersection</td>\n",
       "      <td>7/1/2005</td>\n",
       "      <td>At Intersection (intersection related)</td>\n",
       "      <td>NaN</td>\n",
       "      <td>0</td>\n",
       "      <td>Overcast</td>\n",
       "      <td>Dry</td>\n",
       "      <td>Daylight</td>\n",
       "      <td>NaN</td>\n",
       "      <td>NaN</td>\n",
       "    </tr>\n",
       "    <tr>\n",
       "      <th>17</th>\n",
       "      <td>1</td>\n",
       "      <td>Block</td>\n",
       "      <td>1/16/2004 8:25:00 AM</td>\n",
       "      <td>Mid-Block (but intersection related)</td>\n",
       "      <td>NaN</td>\n",
       "      <td>0</td>\n",
       "      <td>Overcast</td>\n",
       "      <td>Dry</td>\n",
       "      <td>Daylight</td>\n",
       "      <td>NaN</td>\n",
       "      <td>NaN</td>\n",
       "    </tr>\n",
       "    <tr>\n",
       "      <th>18</th>\n",
       "      <td>2</td>\n",
       "      <td>Block</td>\n",
       "      <td>4/17/2020 2:44:00 PM</td>\n",
       "      <td>Mid-Block (not related to intersection)</td>\n",
       "      <td>NaN</td>\n",
       "      <td>N</td>\n",
       "      <td>Clear</td>\n",
       "      <td>Dry</td>\n",
       "      <td>Daylight</td>\n",
       "      <td>NaN</td>\n",
       "      <td>NaN</td>\n",
       "    </tr>\n",
       "    <tr>\n",
       "      <th>19</th>\n",
       "      <td>1</td>\n",
       "      <td>Block</td>\n",
       "      <td>6/1/2009</td>\n",
       "      <td>Mid-Block (not related to intersection)</td>\n",
       "      <td>NaN</td>\n",
       "      <td>0</td>\n",
       "      <td>Unknown</td>\n",
       "      <td>Dry</td>\n",
       "      <td>Unknown</td>\n",
       "      <td>NaN</td>\n",
       "      <td>NaN</td>\n",
       "    </tr>\n",
       "    <tr>\n",
       "      <th>20</th>\n",
       "      <td>2</td>\n",
       "      <td>Block</td>\n",
       "      <td>3/27/2013 8:45:00 PM</td>\n",
       "      <td>Mid-Block (not related to intersection)</td>\n",
       "      <td>NaN</td>\n",
       "      <td>N</td>\n",
       "      <td>Clear</td>\n",
       "      <td>Dry</td>\n",
       "      <td>Dark - Street Lights On</td>\n",
       "      <td>NaN</td>\n",
       "      <td>NaN</td>\n",
       "    </tr>\n",
       "    <tr>\n",
       "      <th>21</th>\n",
       "      <td>2</td>\n",
       "      <td>Intersection</td>\n",
       "      <td>3/28/2013 4:22:00 PM</td>\n",
       "      <td>At Intersection (intersection related)</td>\n",
       "      <td>NaN</td>\n",
       "      <td>N</td>\n",
       "      <td>Clear</td>\n",
       "      <td>Dry</td>\n",
       "      <td>Daylight</td>\n",
       "      <td>NaN</td>\n",
       "      <td>NaN</td>\n",
       "    </tr>\n",
       "    <tr>\n",
       "      <th>22</th>\n",
       "      <td>1</td>\n",
       "      <td>Block</td>\n",
       "      <td>7/18/2008 10:02:00 PM</td>\n",
       "      <td>Mid-Block (not related to intersection)</td>\n",
       "      <td>Y</td>\n",
       "      <td>0</td>\n",
       "      <td>Clear</td>\n",
       "      <td>Dry</td>\n",
       "      <td>Dark - Street Lights On</td>\n",
       "      <td>NaN</td>\n",
       "      <td>NaN</td>\n",
       "    </tr>\n",
       "    <tr>\n",
       "      <th>23</th>\n",
       "      <td>1</td>\n",
       "      <td>Block</td>\n",
       "      <td>9/12/2004 6:20:00 AM</td>\n",
       "      <td>Mid-Block (not related to intersection)</td>\n",
       "      <td>NaN</td>\n",
       "      <td>0</td>\n",
       "      <td>Unknown</td>\n",
       "      <td>Unknown</td>\n",
       "      <td>Unknown</td>\n",
       "      <td>NaN</td>\n",
       "      <td>NaN</td>\n",
       "    </tr>\n",
       "    <tr>\n",
       "      <th>24</th>\n",
       "      <td>2</td>\n",
       "      <td>Intersection</td>\n",
       "      <td>3/31/2013 10:05:00 AM</td>\n",
       "      <td>At Intersection (intersection related)</td>\n",
       "      <td>NaN</td>\n",
       "      <td>N</td>\n",
       "      <td>Clear</td>\n",
       "      <td>Dry</td>\n",
       "      <td>Daylight</td>\n",
       "      <td>NaN</td>\n",
       "      <td>Y</td>\n",
       "    </tr>\n",
       "  </tbody>\n",
       "</table>\n",
       "</div>"
      ],
      "text/plain": [
       "    SEVERITYCODE      ADDRTYPE                 INCDTTM  \\\n",
       "0              2  Intersection    3/27/2013 2:54:00 PM   \n",
       "1              1         Block   12/20/2006 6:55:00 PM   \n",
       "2              1         Block  11/18/2004 10:20:00 AM   \n",
       "3              1         Block    3/29/2013 9:26:00 AM   \n",
       "4              2  Intersection    1/28/2004 8:04:00 AM   \n",
       "5              1  Intersection    4/20/2019 5:42:00 PM   \n",
       "6              1  Intersection               12/9/2008   \n",
       "7              2  Intersection    4/15/2020 5:47:00 PM   \n",
       "8              1         Block    6/15/2006 1:00:00 PM   \n",
       "9              2  Intersection    3/20/2006 3:49:00 PM   \n",
       "10             1         Alley    5/25/2006 6:20:00 PM   \n",
       "11             1  Intersection    8/11/2005 5:30:00 PM   \n",
       "12             1         Block   5/17/2006 12:51:00 PM   \n",
       "13             1         Block   12/22/2005 5:13:00 PM   \n",
       "14             2         Block    3/31/2013 2:09:00 AM   \n",
       "15             1         Block               4/20/2020   \n",
       "16             2  Intersection                7/1/2005   \n",
       "17             1         Block    1/16/2004 8:25:00 AM   \n",
       "18             2         Block    4/17/2020 2:44:00 PM   \n",
       "19             1         Block                6/1/2009   \n",
       "20             2         Block    3/27/2013 8:45:00 PM   \n",
       "21             2  Intersection    3/28/2013 4:22:00 PM   \n",
       "22             1         Block   7/18/2008 10:02:00 PM   \n",
       "23             1         Block    9/12/2004 6:20:00 AM   \n",
       "24             2  Intersection   3/31/2013 10:05:00 AM   \n",
       "\n",
       "                               JUNCTIONTYPE INATTENTIONIND UNDERINFL  \\\n",
       "0    At Intersection (intersection related)            NaN         N   \n",
       "1   Mid-Block (not related to intersection)            NaN         0   \n",
       "2   Mid-Block (not related to intersection)            NaN         0   \n",
       "3   Mid-Block (not related to intersection)            NaN         N   \n",
       "4    At Intersection (intersection related)            NaN         0   \n",
       "5    At Intersection (intersection related)            NaN         N   \n",
       "6    At Intersection (intersection related)            NaN         0   \n",
       "7    At Intersection (intersection related)            NaN         N   \n",
       "8   Mid-Block (not related to intersection)            NaN         0   \n",
       "9    At Intersection (intersection related)            NaN         0   \n",
       "10                        Driveway Junction            NaN         0   \n",
       "11   At Intersection (intersection related)            NaN         0   \n",
       "12  Mid-Block (not related to intersection)            NaN         0   \n",
       "13  Mid-Block (not related to intersection)            NaN         0   \n",
       "14  Mid-Block (not related to intersection)            NaN         N   \n",
       "15                        Driveway Junction            NaN       NaN   \n",
       "16   At Intersection (intersection related)            NaN         0   \n",
       "17     Mid-Block (but intersection related)            NaN         0   \n",
       "18  Mid-Block (not related to intersection)            NaN         N   \n",
       "19  Mid-Block (not related to intersection)            NaN         0   \n",
       "20  Mid-Block (not related to intersection)            NaN         N   \n",
       "21   At Intersection (intersection related)            NaN         N   \n",
       "22  Mid-Block (not related to intersection)              Y         0   \n",
       "23  Mid-Block (not related to intersection)            NaN         0   \n",
       "24   At Intersection (intersection related)            NaN         N   \n",
       "\n",
       "     WEATHER ROADCOND                LIGHTCOND PEDROWNOTGRNT SPEEDING  \n",
       "0   Overcast      Wet                 Daylight           NaN      NaN  \n",
       "1    Raining      Wet  Dark - Street Lights On           NaN      NaN  \n",
       "2   Overcast      Dry                 Daylight           NaN      NaN  \n",
       "3      Clear      Dry                 Daylight           NaN      NaN  \n",
       "4    Raining      Wet                 Daylight           NaN      NaN  \n",
       "5      Clear      Dry                 Daylight           NaN      NaN  \n",
       "6    Raining      Wet                 Daylight           NaN      NaN  \n",
       "7      Clear      Dry                 Daylight           NaN      NaN  \n",
       "8      Clear      Dry                 Daylight           NaN      NaN  \n",
       "9      Clear      Dry                 Daylight           NaN      NaN  \n",
       "10  Overcast      Dry                 Daylight           NaN      NaN  \n",
       "11     Clear      Dry                 Daylight           NaN      NaN  \n",
       "12   Raining      Wet  Dark - Street Lights On           NaN      NaN  \n",
       "13   Raining      Wet  Dark - No Street Lights           NaN      NaN  \n",
       "14     Clear      Dry  Dark - Street Lights On           NaN      NaN  \n",
       "15       NaN      NaN                      NaN           NaN      NaN  \n",
       "16  Overcast      Dry                 Daylight           NaN      NaN  \n",
       "17  Overcast      Dry                 Daylight           NaN      NaN  \n",
       "18     Clear      Dry                 Daylight           NaN      NaN  \n",
       "19   Unknown      Dry                  Unknown           NaN      NaN  \n",
       "20     Clear      Dry  Dark - Street Lights On           NaN      NaN  \n",
       "21     Clear      Dry                 Daylight           NaN      NaN  \n",
       "22     Clear      Dry  Dark - Street Lights On           NaN      NaN  \n",
       "23   Unknown  Unknown                  Unknown           NaN      NaN  \n",
       "24     Clear      Dry                 Daylight           NaN        Y  "
      ]
     },
     "execution_count": 28,
     "metadata": {},
     "output_type": "execute_result"
    }
   ],
   "source": [
    "df_1.head(25)"
   ]
  },
  {
   "cell_type": "markdown",
   "metadata": {},
   "source": [
    "In df_2 dataset, we removed collisions caused by human factors."
   ]
  },
  {
   "cell_type": "code",
   "execution_count": 29,
   "metadata": {},
   "outputs": [
    {
     "data": {
      "text/html": [
       "<div>\n",
       "<style scoped>\n",
       "    .dataframe tbody tr th:only-of-type {\n",
       "        vertical-align: middle;\n",
       "    }\n",
       "\n",
       "    .dataframe tbody tr th {\n",
       "        vertical-align: top;\n",
       "    }\n",
       "\n",
       "    .dataframe thead th {\n",
       "        text-align: right;\n",
       "    }\n",
       "</style>\n",
       "<table border=\"1\" class=\"dataframe\">\n",
       "  <thead>\n",
       "    <tr style=\"text-align: right;\">\n",
       "      <th></th>\n",
       "      <th>SEVERITYCODE</th>\n",
       "      <th>ADDRTYPE</th>\n",
       "      <th>INCDTTM</th>\n",
       "      <th>JUNCTIONTYPE</th>\n",
       "      <th>INATTENTIONIND</th>\n",
       "      <th>UNDERINFL</th>\n",
       "      <th>WEATHER</th>\n",
       "      <th>ROADCOND</th>\n",
       "      <th>LIGHTCOND</th>\n",
       "      <th>PEDROWNOTGRNT</th>\n",
       "      <th>SPEEDING</th>\n",
       "    </tr>\n",
       "  </thead>\n",
       "  <tbody>\n",
       "    <tr>\n",
       "      <th>0</th>\n",
       "      <td>2</td>\n",
       "      <td>Intersection</td>\n",
       "      <td>3/27/2013 2:54:00 PM</td>\n",
       "      <td>At Intersection (intersection related)</td>\n",
       "      <td>NaN</td>\n",
       "      <td>N</td>\n",
       "      <td>Overcast</td>\n",
       "      <td>Wet</td>\n",
       "      <td>Daylight</td>\n",
       "      <td>NaN</td>\n",
       "      <td>NaN</td>\n",
       "    </tr>\n",
       "    <tr>\n",
       "      <th>1</th>\n",
       "      <td>1</td>\n",
       "      <td>Block</td>\n",
       "      <td>12/20/2006 6:55:00 PM</td>\n",
       "      <td>Mid-Block (not related to intersection)</td>\n",
       "      <td>NaN</td>\n",
       "      <td>0</td>\n",
       "      <td>Raining</td>\n",
       "      <td>Wet</td>\n",
       "      <td>Dark - Street Lights On</td>\n",
       "      <td>NaN</td>\n",
       "      <td>NaN</td>\n",
       "    </tr>\n",
       "    <tr>\n",
       "      <th>2</th>\n",
       "      <td>1</td>\n",
       "      <td>Block</td>\n",
       "      <td>11/18/2004 10:20:00 AM</td>\n",
       "      <td>Mid-Block (not related to intersection)</td>\n",
       "      <td>NaN</td>\n",
       "      <td>0</td>\n",
       "      <td>Overcast</td>\n",
       "      <td>Dry</td>\n",
       "      <td>Daylight</td>\n",
       "      <td>NaN</td>\n",
       "      <td>NaN</td>\n",
       "    </tr>\n",
       "    <tr>\n",
       "      <th>3</th>\n",
       "      <td>1</td>\n",
       "      <td>Block</td>\n",
       "      <td>3/29/2013 9:26:00 AM</td>\n",
       "      <td>Mid-Block (not related to intersection)</td>\n",
       "      <td>NaN</td>\n",
       "      <td>N</td>\n",
       "      <td>Clear</td>\n",
       "      <td>Dry</td>\n",
       "      <td>Daylight</td>\n",
       "      <td>NaN</td>\n",
       "      <td>NaN</td>\n",
       "    </tr>\n",
       "    <tr>\n",
       "      <th>4</th>\n",
       "      <td>2</td>\n",
       "      <td>Intersection</td>\n",
       "      <td>1/28/2004 8:04:00 AM</td>\n",
       "      <td>At Intersection (intersection related)</td>\n",
       "      <td>NaN</td>\n",
       "      <td>0</td>\n",
       "      <td>Raining</td>\n",
       "      <td>Wet</td>\n",
       "      <td>Daylight</td>\n",
       "      <td>NaN</td>\n",
       "      <td>NaN</td>\n",
       "    </tr>\n",
       "    <tr>\n",
       "      <th>5</th>\n",
       "      <td>1</td>\n",
       "      <td>Intersection</td>\n",
       "      <td>4/20/2019 5:42:00 PM</td>\n",
       "      <td>At Intersection (intersection related)</td>\n",
       "      <td>NaN</td>\n",
       "      <td>N</td>\n",
       "      <td>Clear</td>\n",
       "      <td>Dry</td>\n",
       "      <td>Daylight</td>\n",
       "      <td>NaN</td>\n",
       "      <td>NaN</td>\n",
       "    </tr>\n",
       "    <tr>\n",
       "      <th>6</th>\n",
       "      <td>1</td>\n",
       "      <td>Intersection</td>\n",
       "      <td>12/9/2008</td>\n",
       "      <td>At Intersection (intersection related)</td>\n",
       "      <td>NaN</td>\n",
       "      <td>0</td>\n",
       "      <td>Raining</td>\n",
       "      <td>Wet</td>\n",
       "      <td>Daylight</td>\n",
       "      <td>NaN</td>\n",
       "      <td>NaN</td>\n",
       "    </tr>\n",
       "    <tr>\n",
       "      <th>7</th>\n",
       "      <td>2</td>\n",
       "      <td>Intersection</td>\n",
       "      <td>4/15/2020 5:47:00 PM</td>\n",
       "      <td>At Intersection (intersection related)</td>\n",
       "      <td>NaN</td>\n",
       "      <td>N</td>\n",
       "      <td>Clear</td>\n",
       "      <td>Dry</td>\n",
       "      <td>Daylight</td>\n",
       "      <td>NaN</td>\n",
       "      <td>NaN</td>\n",
       "    </tr>\n",
       "    <tr>\n",
       "      <th>8</th>\n",
       "      <td>1</td>\n",
       "      <td>Block</td>\n",
       "      <td>6/15/2006 1:00:00 PM</td>\n",
       "      <td>Mid-Block (not related to intersection)</td>\n",
       "      <td>NaN</td>\n",
       "      <td>0</td>\n",
       "      <td>Clear</td>\n",
       "      <td>Dry</td>\n",
       "      <td>Daylight</td>\n",
       "      <td>NaN</td>\n",
       "      <td>NaN</td>\n",
       "    </tr>\n",
       "    <tr>\n",
       "      <th>9</th>\n",
       "      <td>2</td>\n",
       "      <td>Intersection</td>\n",
       "      <td>3/20/2006 3:49:00 PM</td>\n",
       "      <td>At Intersection (intersection related)</td>\n",
       "      <td>NaN</td>\n",
       "      <td>0</td>\n",
       "      <td>Clear</td>\n",
       "      <td>Dry</td>\n",
       "      <td>Daylight</td>\n",
       "      <td>NaN</td>\n",
       "      <td>NaN</td>\n",
       "    </tr>\n",
       "    <tr>\n",
       "      <th>10</th>\n",
       "      <td>1</td>\n",
       "      <td>Alley</td>\n",
       "      <td>5/25/2006 6:20:00 PM</td>\n",
       "      <td>Driveway Junction</td>\n",
       "      <td>NaN</td>\n",
       "      <td>0</td>\n",
       "      <td>Overcast</td>\n",
       "      <td>Dry</td>\n",
       "      <td>Daylight</td>\n",
       "      <td>NaN</td>\n",
       "      <td>NaN</td>\n",
       "    </tr>\n",
       "    <tr>\n",
       "      <th>11</th>\n",
       "      <td>1</td>\n",
       "      <td>Intersection</td>\n",
       "      <td>8/11/2005 5:30:00 PM</td>\n",
       "      <td>At Intersection (intersection related)</td>\n",
       "      <td>NaN</td>\n",
       "      <td>0</td>\n",
       "      <td>Clear</td>\n",
       "      <td>Dry</td>\n",
       "      <td>Daylight</td>\n",
       "      <td>NaN</td>\n",
       "      <td>NaN</td>\n",
       "    </tr>\n",
       "    <tr>\n",
       "      <th>12</th>\n",
       "      <td>1</td>\n",
       "      <td>Block</td>\n",
       "      <td>5/17/2006 12:51:00 PM</td>\n",
       "      <td>Mid-Block (not related to intersection)</td>\n",
       "      <td>NaN</td>\n",
       "      <td>0</td>\n",
       "      <td>Raining</td>\n",
       "      <td>Wet</td>\n",
       "      <td>Dark - Street Lights On</td>\n",
       "      <td>NaN</td>\n",
       "      <td>NaN</td>\n",
       "    </tr>\n",
       "    <tr>\n",
       "      <th>13</th>\n",
       "      <td>1</td>\n",
       "      <td>Block</td>\n",
       "      <td>12/22/2005 5:13:00 PM</td>\n",
       "      <td>Mid-Block (not related to intersection)</td>\n",
       "      <td>NaN</td>\n",
       "      <td>0</td>\n",
       "      <td>Raining</td>\n",
       "      <td>Wet</td>\n",
       "      <td>Dark - No Street Lights</td>\n",
       "      <td>NaN</td>\n",
       "      <td>NaN</td>\n",
       "    </tr>\n",
       "    <tr>\n",
       "      <th>14</th>\n",
       "      <td>2</td>\n",
       "      <td>Block</td>\n",
       "      <td>3/31/2013 2:09:00 AM</td>\n",
       "      <td>Mid-Block (not related to intersection)</td>\n",
       "      <td>NaN</td>\n",
       "      <td>N</td>\n",
       "      <td>Clear</td>\n",
       "      <td>Dry</td>\n",
       "      <td>Dark - Street Lights On</td>\n",
       "      <td>NaN</td>\n",
       "      <td>NaN</td>\n",
       "    </tr>\n",
       "    <tr>\n",
       "      <th>15</th>\n",
       "      <td>1</td>\n",
       "      <td>Block</td>\n",
       "      <td>4/20/2020</td>\n",
       "      <td>Driveway Junction</td>\n",
       "      <td>NaN</td>\n",
       "      <td>NaN</td>\n",
       "      <td>NaN</td>\n",
       "      <td>NaN</td>\n",
       "      <td>NaN</td>\n",
       "      <td>NaN</td>\n",
       "      <td>NaN</td>\n",
       "    </tr>\n",
       "    <tr>\n",
       "      <th>16</th>\n",
       "      <td>2</td>\n",
       "      <td>Intersection</td>\n",
       "      <td>7/1/2005</td>\n",
       "      <td>At Intersection (intersection related)</td>\n",
       "      <td>NaN</td>\n",
       "      <td>0</td>\n",
       "      <td>Overcast</td>\n",
       "      <td>Dry</td>\n",
       "      <td>Daylight</td>\n",
       "      <td>NaN</td>\n",
       "      <td>NaN</td>\n",
       "    </tr>\n",
       "    <tr>\n",
       "      <th>17</th>\n",
       "      <td>1</td>\n",
       "      <td>Block</td>\n",
       "      <td>1/16/2004 8:25:00 AM</td>\n",
       "      <td>Mid-Block (but intersection related)</td>\n",
       "      <td>NaN</td>\n",
       "      <td>0</td>\n",
       "      <td>Overcast</td>\n",
       "      <td>Dry</td>\n",
       "      <td>Daylight</td>\n",
       "      <td>NaN</td>\n",
       "      <td>NaN</td>\n",
       "    </tr>\n",
       "    <tr>\n",
       "      <th>18</th>\n",
       "      <td>2</td>\n",
       "      <td>Block</td>\n",
       "      <td>4/17/2020 2:44:00 PM</td>\n",
       "      <td>Mid-Block (not related to intersection)</td>\n",
       "      <td>NaN</td>\n",
       "      <td>N</td>\n",
       "      <td>Clear</td>\n",
       "      <td>Dry</td>\n",
       "      <td>Daylight</td>\n",
       "      <td>NaN</td>\n",
       "      <td>NaN</td>\n",
       "    </tr>\n",
       "    <tr>\n",
       "      <th>19</th>\n",
       "      <td>1</td>\n",
       "      <td>Block</td>\n",
       "      <td>6/1/2009</td>\n",
       "      <td>Mid-Block (not related to intersection)</td>\n",
       "      <td>NaN</td>\n",
       "      <td>0</td>\n",
       "      <td>Unknown</td>\n",
       "      <td>Dry</td>\n",
       "      <td>Unknown</td>\n",
       "      <td>NaN</td>\n",
       "      <td>NaN</td>\n",
       "    </tr>\n",
       "    <tr>\n",
       "      <th>20</th>\n",
       "      <td>2</td>\n",
       "      <td>Block</td>\n",
       "      <td>3/27/2013 8:45:00 PM</td>\n",
       "      <td>Mid-Block (not related to intersection)</td>\n",
       "      <td>NaN</td>\n",
       "      <td>N</td>\n",
       "      <td>Clear</td>\n",
       "      <td>Dry</td>\n",
       "      <td>Dark - Street Lights On</td>\n",
       "      <td>NaN</td>\n",
       "      <td>NaN</td>\n",
       "    </tr>\n",
       "    <tr>\n",
       "      <th>21</th>\n",
       "      <td>2</td>\n",
       "      <td>Intersection</td>\n",
       "      <td>3/28/2013 4:22:00 PM</td>\n",
       "      <td>At Intersection (intersection related)</td>\n",
       "      <td>NaN</td>\n",
       "      <td>N</td>\n",
       "      <td>Clear</td>\n",
       "      <td>Dry</td>\n",
       "      <td>Daylight</td>\n",
       "      <td>NaN</td>\n",
       "      <td>NaN</td>\n",
       "    </tr>\n",
       "    <tr>\n",
       "      <th>23</th>\n",
       "      <td>1</td>\n",
       "      <td>Block</td>\n",
       "      <td>9/12/2004 6:20:00 AM</td>\n",
       "      <td>Mid-Block (not related to intersection)</td>\n",
       "      <td>NaN</td>\n",
       "      <td>0</td>\n",
       "      <td>Unknown</td>\n",
       "      <td>Unknown</td>\n",
       "      <td>Unknown</td>\n",
       "      <td>NaN</td>\n",
       "      <td>NaN</td>\n",
       "    </tr>\n",
       "    <tr>\n",
       "      <th>26</th>\n",
       "      <td>1</td>\n",
       "      <td>Intersection</td>\n",
       "      <td>11/13/2010 3:24:00 PM</td>\n",
       "      <td>At Intersection (intersection related)</td>\n",
       "      <td>NaN</td>\n",
       "      <td>N</td>\n",
       "      <td>Overcast</td>\n",
       "      <td>Wet</td>\n",
       "      <td>Unknown</td>\n",
       "      <td>NaN</td>\n",
       "      <td>NaN</td>\n",
       "    </tr>\n",
       "    <tr>\n",
       "      <th>27</th>\n",
       "      <td>1</td>\n",
       "      <td>Block</td>\n",
       "      <td>7/23/2007 4:30:00 PM</td>\n",
       "      <td>Driveway Junction</td>\n",
       "      <td>NaN</td>\n",
       "      <td>0</td>\n",
       "      <td>Clear</td>\n",
       "      <td>Dry</td>\n",
       "      <td>Daylight</td>\n",
       "      <td>NaN</td>\n",
       "      <td>NaN</td>\n",
       "    </tr>\n",
       "  </tbody>\n",
       "</table>\n",
       "</div>"
      ],
      "text/plain": [
       "    SEVERITYCODE      ADDRTYPE                 INCDTTM  \\\n",
       "0              2  Intersection    3/27/2013 2:54:00 PM   \n",
       "1              1         Block   12/20/2006 6:55:00 PM   \n",
       "2              1         Block  11/18/2004 10:20:00 AM   \n",
       "3              1         Block    3/29/2013 9:26:00 AM   \n",
       "4              2  Intersection    1/28/2004 8:04:00 AM   \n",
       "5              1  Intersection    4/20/2019 5:42:00 PM   \n",
       "6              1  Intersection               12/9/2008   \n",
       "7              2  Intersection    4/15/2020 5:47:00 PM   \n",
       "8              1         Block    6/15/2006 1:00:00 PM   \n",
       "9              2  Intersection    3/20/2006 3:49:00 PM   \n",
       "10             1         Alley    5/25/2006 6:20:00 PM   \n",
       "11             1  Intersection    8/11/2005 5:30:00 PM   \n",
       "12             1         Block   5/17/2006 12:51:00 PM   \n",
       "13             1         Block   12/22/2005 5:13:00 PM   \n",
       "14             2         Block    3/31/2013 2:09:00 AM   \n",
       "15             1         Block               4/20/2020   \n",
       "16             2  Intersection                7/1/2005   \n",
       "17             1         Block    1/16/2004 8:25:00 AM   \n",
       "18             2         Block    4/17/2020 2:44:00 PM   \n",
       "19             1         Block                6/1/2009   \n",
       "20             2         Block    3/27/2013 8:45:00 PM   \n",
       "21             2  Intersection    3/28/2013 4:22:00 PM   \n",
       "23             1         Block    9/12/2004 6:20:00 AM   \n",
       "26             1  Intersection   11/13/2010 3:24:00 PM   \n",
       "27             1         Block    7/23/2007 4:30:00 PM   \n",
       "\n",
       "                               JUNCTIONTYPE INATTENTIONIND UNDERINFL  \\\n",
       "0    At Intersection (intersection related)            NaN         N   \n",
       "1   Mid-Block (not related to intersection)            NaN         0   \n",
       "2   Mid-Block (not related to intersection)            NaN         0   \n",
       "3   Mid-Block (not related to intersection)            NaN         N   \n",
       "4    At Intersection (intersection related)            NaN         0   \n",
       "5    At Intersection (intersection related)            NaN         N   \n",
       "6    At Intersection (intersection related)            NaN         0   \n",
       "7    At Intersection (intersection related)            NaN         N   \n",
       "8   Mid-Block (not related to intersection)            NaN         0   \n",
       "9    At Intersection (intersection related)            NaN         0   \n",
       "10                        Driveway Junction            NaN         0   \n",
       "11   At Intersection (intersection related)            NaN         0   \n",
       "12  Mid-Block (not related to intersection)            NaN         0   \n",
       "13  Mid-Block (not related to intersection)            NaN         0   \n",
       "14  Mid-Block (not related to intersection)            NaN         N   \n",
       "15                        Driveway Junction            NaN       NaN   \n",
       "16   At Intersection (intersection related)            NaN         0   \n",
       "17     Mid-Block (but intersection related)            NaN         0   \n",
       "18  Mid-Block (not related to intersection)            NaN         N   \n",
       "19  Mid-Block (not related to intersection)            NaN         0   \n",
       "20  Mid-Block (not related to intersection)            NaN         N   \n",
       "21   At Intersection (intersection related)            NaN         N   \n",
       "23  Mid-Block (not related to intersection)            NaN         0   \n",
       "26   At Intersection (intersection related)            NaN         N   \n",
       "27                        Driveway Junction            NaN         0   \n",
       "\n",
       "     WEATHER ROADCOND                LIGHTCOND PEDROWNOTGRNT SPEEDING  \n",
       "0   Overcast      Wet                 Daylight           NaN      NaN  \n",
       "1    Raining      Wet  Dark - Street Lights On           NaN      NaN  \n",
       "2   Overcast      Dry                 Daylight           NaN      NaN  \n",
       "3      Clear      Dry                 Daylight           NaN      NaN  \n",
       "4    Raining      Wet                 Daylight           NaN      NaN  \n",
       "5      Clear      Dry                 Daylight           NaN      NaN  \n",
       "6    Raining      Wet                 Daylight           NaN      NaN  \n",
       "7      Clear      Dry                 Daylight           NaN      NaN  \n",
       "8      Clear      Dry                 Daylight           NaN      NaN  \n",
       "9      Clear      Dry                 Daylight           NaN      NaN  \n",
       "10  Overcast      Dry                 Daylight           NaN      NaN  \n",
       "11     Clear      Dry                 Daylight           NaN      NaN  \n",
       "12   Raining      Wet  Dark - Street Lights On           NaN      NaN  \n",
       "13   Raining      Wet  Dark - No Street Lights           NaN      NaN  \n",
       "14     Clear      Dry  Dark - Street Lights On           NaN      NaN  \n",
       "15       NaN      NaN                      NaN           NaN      NaN  \n",
       "16  Overcast      Dry                 Daylight           NaN      NaN  \n",
       "17  Overcast      Dry                 Daylight           NaN      NaN  \n",
       "18     Clear      Dry                 Daylight           NaN      NaN  \n",
       "19   Unknown      Dry                  Unknown           NaN      NaN  \n",
       "20     Clear      Dry  Dark - Street Lights On           NaN      NaN  \n",
       "21     Clear      Dry                 Daylight           NaN      NaN  \n",
       "23   Unknown  Unknown                  Unknown           NaN      NaN  \n",
       "26  Overcast      Wet                  Unknown           NaN      NaN  \n",
       "27     Clear      Dry                 Daylight           NaN      NaN  "
      ]
     },
     "execution_count": 29,
     "metadata": {},
     "output_type": "execute_result"
    }
   ],
   "source": [
    "df_2.head(25)"
   ]
  },
  {
   "cell_type": "markdown",
   "metadata": {},
   "source": [
    "We choose SEVERITYCODE as a dependent variable. As independent variables, we select surrounding conditions, ADDRTYPE, JUNCTIONTYPE, WEATHER, ROADCOND and LIGHTCOND."
   ]
  },
  {
   "cell_type": "code",
   "execution_count": 5,
   "metadata": {},
   "outputs": [
    {
     "data": {
      "text/html": [
       "<div>\n",
       "<style scoped>\n",
       "    .dataframe tbody tr th:only-of-type {\n",
       "        vertical-align: middle;\n",
       "    }\n",
       "\n",
       "    .dataframe tbody tr th {\n",
       "        vertical-align: top;\n",
       "    }\n",
       "\n",
       "    .dataframe thead th {\n",
       "        text-align: right;\n",
       "    }\n",
       "</style>\n",
       "<table border=\"1\" class=\"dataframe\">\n",
       "  <thead>\n",
       "    <tr style=\"text-align: right;\">\n",
       "      <th></th>\n",
       "      <th>SEVERITYCODE</th>\n",
       "      <th>ADDRTYPE</th>\n",
       "      <th>JUNCTIONTYPE</th>\n",
       "      <th>WEATHER</th>\n",
       "      <th>ROADCOND</th>\n",
       "      <th>LIGHTCOND</th>\n",
       "    </tr>\n",
       "  </thead>\n",
       "  <tbody>\n",
       "    <tr>\n",
       "      <th>0</th>\n",
       "      <td>2</td>\n",
       "      <td>Intersection</td>\n",
       "      <td>At Intersection (intersection related)</td>\n",
       "      <td>Overcast</td>\n",
       "      <td>Wet</td>\n",
       "      <td>Daylight</td>\n",
       "    </tr>\n",
       "    <tr>\n",
       "      <th>1</th>\n",
       "      <td>1</td>\n",
       "      <td>Block</td>\n",
       "      <td>Mid-Block (not related to intersection)</td>\n",
       "      <td>Raining</td>\n",
       "      <td>Wet</td>\n",
       "      <td>Dark - Street Lights On</td>\n",
       "    </tr>\n",
       "    <tr>\n",
       "      <th>2</th>\n",
       "      <td>1</td>\n",
       "      <td>Block</td>\n",
       "      <td>Mid-Block (not related to intersection)</td>\n",
       "      <td>Overcast</td>\n",
       "      <td>Dry</td>\n",
       "      <td>Daylight</td>\n",
       "    </tr>\n",
       "    <tr>\n",
       "      <th>3</th>\n",
       "      <td>1</td>\n",
       "      <td>Block</td>\n",
       "      <td>Mid-Block (not related to intersection)</td>\n",
       "      <td>Clear</td>\n",
       "      <td>Dry</td>\n",
       "      <td>Daylight</td>\n",
       "    </tr>\n",
       "    <tr>\n",
       "      <th>4</th>\n",
       "      <td>2</td>\n",
       "      <td>Intersection</td>\n",
       "      <td>At Intersection (intersection related)</td>\n",
       "      <td>Raining</td>\n",
       "      <td>Wet</td>\n",
       "      <td>Daylight</td>\n",
       "    </tr>\n",
       "  </tbody>\n",
       "</table>\n",
       "</div>"
      ],
      "text/plain": [
       "   SEVERITYCODE      ADDRTYPE                             JUNCTIONTYPE  \\\n",
       "0             2  Intersection   At Intersection (intersection related)   \n",
       "1             1         Block  Mid-Block (not related to intersection)   \n",
       "2             1         Block  Mid-Block (not related to intersection)   \n",
       "3             1         Block  Mid-Block (not related to intersection)   \n",
       "4             2  Intersection   At Intersection (intersection related)   \n",
       "\n",
       "    WEATHER ROADCOND                LIGHTCOND  \n",
       "0  Overcast      Wet                 Daylight  \n",
       "1   Raining      Wet  Dark - Street Lights On  \n",
       "2  Overcast      Dry                 Daylight  \n",
       "3     Clear      Dry                 Daylight  \n",
       "4   Raining      Wet                 Daylight  "
      ]
     },
     "execution_count": 5,
     "metadata": {},
     "output_type": "execute_result"
    }
   ],
   "source": [
    "df_3 = df_2.loc[:,[\"SEVERITYCODE\",\"ADDRTYPE\",\"JUNCTIONTYPE\",\"WEATHER\",\"ROADCOND\",\"LIGHTCOND\"]]\n",
    "df_3.head()"
   ]
  },
  {
   "cell_type": "markdown",
   "metadata": {},
   "source": [
    "In df_3 dataset, there are NaN data. Here drop NaN data to improve the accuracy."
   ]
  },
  {
   "cell_type": "code",
   "execution_count": 6,
   "metadata": {},
   "outputs": [],
   "source": [
    "df_4 = df_3.dropna(how='any')"
   ]
  },
  {
   "cell_type": "markdown",
   "metadata": {},
   "source": [
    "Also drop \"Unknown\" and \"Other\" cases from df_4."
   ]
  },
  {
   "cell_type": "code",
   "execution_count": 7,
   "metadata": {},
   "outputs": [],
   "source": [
    "df_5 = df_4[(df_4[\"JUNCTIONTYPE\"]  != \"Unknown\") & (df_4[\"WEATHER\"]  != \"Unknown\") & (df_4[\"WEATHER\"]  != \"Other\") & (df_4[\"ROADCOND\"]  != \"Unknown\") & (df_4[\"ROADCOND\"]  != \"Other\") & (df_4[\"ROADCOND\"]  != \"Oil\") & (df_4[\"LIGHTCOND\"]  != \"Unknown\") & (df_4[\"LIGHTCOND\"]  != \"Other\") & (df_4[\"LIGHTCOND\"]  != \"Dark - Unknown Lighting\")]"
   ]
  },
  {
   "cell_type": "markdown",
   "metadata": {},
   "source": [
    "120058 cases are left in dataset."
   ]
  },
  {
   "cell_type": "code",
   "execution_count": 8,
   "metadata": {},
   "outputs": [
    {
     "data": {
      "text/plain": [
       "(120058, 6)"
      ]
     },
     "execution_count": 8,
     "metadata": {},
     "output_type": "execute_result"
    }
   ],
   "source": [
    "df_5.shape"
   ]
  },
  {
   "cell_type": "markdown",
   "metadata": {},
   "source": [
    "# 2. Overview of Data"
   ]
  },
  {
   "cell_type": "markdown",
   "metadata": {},
   "source": [
    "Before machine learning, we will draw bar graphs about relations between severity and independent variables. At first, we need to import matplotlib."
   ]
  },
  {
   "cell_type": "code",
   "execution_count": 16,
   "metadata": {},
   "outputs": [],
   "source": [
    "import matplotlib.style\n",
    "import matplotlib.pyplot as plt\n",
    "\n",
    "matplotlib.style.use(\"ggplot\")"
   ]
  },
  {
   "cell_type": "markdown",
   "metadata": {},
   "source": [
    "To get the counts of unique values for each feature, we execute \".value_counts()\"."
   ]
  },
  {
   "cell_type": "code",
   "execution_count": 17,
   "metadata": {},
   "outputs": [
    {
     "data": {
      "text/plain": [
       "1    84200\n",
       "2    35858\n",
       "Name: SEVERITYCODE, dtype: int64"
      ]
     },
     "execution_count": 17,
     "metadata": {},
     "output_type": "execute_result"
    }
   ],
   "source": [
    "df_5[\"SEVERITYCODE\"].value_counts()"
   ]
  },
  {
   "cell_type": "code",
   "execution_count": 18,
   "metadata": {},
   "outputs": [
    {
     "data": {
      "text/plain": [
       "Block           72804\n",
       "Intersection    47121\n",
       "Alley             133\n",
       "Name: ADDRTYPE, dtype: int64"
      ]
     },
     "execution_count": 18,
     "metadata": {},
     "output_type": "execute_result"
    }
   ],
   "source": [
    "df_5[\"ADDRTYPE\"].value_counts()"
   ]
  },
  {
   "cell_type": "markdown",
   "metadata": {},
   "source": [
    "We draw a bar graph between \"SEVERITYCODE\" and \"ADDRTYPE\"."
   ]
  },
  {
   "cell_type": "code",
   "execution_count": 19,
   "metadata": {},
   "outputs": [
    {
     "data": {
      "text/plain": [
       "<matplotlib.axes._subplots.AxesSubplot at 0x7f9429a75a10>"
      ]
     },
     "execution_count": 19,
     "metadata": {},
     "output_type": "execute_result"
    },
    {
     "data": {
      "image/png": "[encoded data removed]",
      "text/plain": [
       "<Figure size 432x288 with 1 Axes>"
      ]
     },
     "metadata": {},
     "output_type": "display_data"
    }
   ],
   "source": [
    "df_5.groupby(\"ADDRTYPE\")[\"SEVERITYCODE\"].value_counts().unstack().plot.bar()"
   ]
  },
  {
   "cell_type": "code",
   "execution_count": 20,
   "metadata": {},
   "outputs": [
    {
     "data": {
      "text/plain": [
       "Mid-Block (not related to intersection)              51569\n",
       "At Intersection (intersection related)               45919\n",
       "Mid-Block (but intersection related)                 13514\n",
       "Driveway Junction                                     7781\n",
       "At Intersection (but not related to intersection)     1181\n",
       "Ramp Junction                                           94\n",
       "Name: JUNCTIONTYPE, dtype: int64"
      ]
     },
     "execution_count": 20,
     "metadata": {},
     "output_type": "execute_result"
    }
   ],
   "source": [
    "df_5[\"JUNCTIONTYPE\"].value_counts()"
   ]
  },
  {
   "cell_type": "code",
   "execution_count": 21,
   "metadata": {},
   "outputs": [
    {
     "data": {
      "text/plain": [
       "<matplotlib.axes._subplots.AxesSubplot at 0x7f9429a5bd10>"
      ]
     },
     "execution_count": 21,
     "metadata": {},
     "output_type": "execute_result"
    },
    {
     "data": {
      "image/png": "[encoded data removed]",
      "text/plain": [
       "<Figure size 432x288 with 1 Axes>"
      ]
     },
     "metadata": {},
     "output_type": "display_data"
    }
   ],
   "source": [
    "df_5.groupby(\"JUNCTIONTYPE\")[\"SEVERITYCODE\"].value_counts().unstack().plot.bar()"
   ]
  },
  {
   "cell_type": "code",
   "execution_count": 22,
   "metadata": {},
   "outputs": [
    {
     "data": {
      "text/plain": [
       "Clear                       77728\n",
       "Raining                     22282\n",
       "Overcast                    19008\n",
       "Snowing                       556\n",
       "Fog/Smog/Smoke                352\n",
       "Sleet/Hail/Freezing Rain       74\n",
       "Blowing Sand/Dirt              33\n",
       "Severe Crosswind               20\n",
       "Partly Cloudy                   5\n",
       "Name: WEATHER, dtype: int64"
      ]
     },
     "execution_count": 22,
     "metadata": {},
     "output_type": "execute_result"
    }
   ],
   "source": [
    "df_5[\"WEATHER\"].value_counts()"
   ]
  },
  {
   "cell_type": "code",
   "execution_count": 23,
   "metadata": {},
   "outputs": [
    {
     "data": {
      "text/plain": [
       "<matplotlib.axes._subplots.AxesSubplot at 0x7f942ed58490>"
      ]
     },
     "execution_count": 23,
     "metadata": {},
     "output_type": "execute_result"
    },
    {
     "data": {
      "image/png": "[encoded data removed]",
      "text/plain": [
       "<Figure size 432x288 with 1 Axes>"
      ]
     },
     "metadata": {},
     "output_type": "display_data"
    }
   ],
   "source": [
    "df_5.groupby(\"WEATHER\")[\"SEVERITYCODE\"].value_counts().unstack().plot.bar()"
   ]
  },
  {
   "cell_type": "code",
   "execution_count": 24,
   "metadata": {},
   "outputs": [
    {
     "data": {
      "text/plain": [
       "Dry               87059\n",
       "Wet               31729\n",
       "Ice                 644\n",
       "Snow/Slush          537\n",
       "Standing Water       49\n",
       "Sand/Mud/Dirt        40\n",
       "Name: ROADCOND, dtype: int64"
      ]
     },
     "execution_count": 24,
     "metadata": {},
     "output_type": "execute_result"
    }
   ],
   "source": [
    "df_5[\"ROADCOND\"].value_counts()"
   ]
  },
  {
   "cell_type": "code",
   "execution_count": 25,
   "metadata": {},
   "outputs": [
    {
     "data": {
      "text/plain": [
       "<matplotlib.axes._subplots.AxesSubplot at 0x7f9429a6add0>"
      ]
     },
     "execution_count": 25,
     "metadata": {},
     "output_type": "execute_result"
    },
    {
     "data": {
      "image/png": "[encoded data removed]",
      "text/plain": [
       "<Figure size 432x288 with 1 Axes>"
      ]
     },
     "metadata": {},
     "output_type": "display_data"
    }
   ],
   "source": [
    "df_5.groupby(\"ROADCOND\")[\"SEVERITYCODE\"].value_counts().unstack().plot.bar()"
   ]
  },
  {
   "cell_type": "code",
   "execution_count": 26,
   "metadata": {},
   "outputs": [
    {
     "data": {
      "text/plain": [
       "Daylight                    82215\n",
       "Dark - Street Lights On     30412\n",
       "Dusk                         4131\n",
       "Dawn                         1657\n",
       "Dark - No Street Lights       938\n",
       "Dark - Street Lights Off      705\n",
       "Name: LIGHTCOND, dtype: int64"
      ]
     },
     "execution_count": 26,
     "metadata": {},
     "output_type": "execute_result"
    }
   ],
   "source": [
    "df_5[\"LIGHTCOND\"].value_counts()"
   ]
  },
  {
   "cell_type": "code",
   "execution_count": 27,
   "metadata": {},
   "outputs": [
    {
     "data": {
      "text/plain": [
       "<matplotlib.axes._subplots.AxesSubplot at 0x7f942983d0d0>"
      ]
     },
     "execution_count": 27,
     "metadata": {},
     "output_type": "execute_result"
    },
    {
     "data": {
      "image/png": "[encoded data removed]",
      "text/plain": [
       "<Figure size 432x288 with 1 Axes>"
      ]
     },
     "metadata": {},
     "output_type": "display_data"
    }
   ],
   "source": [
    "df_5.groupby(\"LIGHTCOND\")[\"SEVERITYCODE\"].value_counts().unstack().plot.bar()"
   ]
  },
  {
   "cell_type": "markdown",
   "metadata": {},
   "source": [
    "# 3. Model Building"
   ]
  },
  {
   "cell_type": "markdown",
   "metadata": {},
   "source": [
    "We would like to find out what conditions cause “severity2” cases. In order to analyze our data we employed Decision Tree and Random Forest which are the supervised learning methods. Random Forest is an ensemble of decision trees. The reason why we choose these methods is that it is easy for us to understand what surrounding conditions cause more severe collisions by visualization of tree.  \n",
    "  \n",
    "Before machine learning, we need to convert categorical variables into indicator variables with pandas.get_dummies()."
   ]
  },
  {
   "cell_type": "code",
   "execution_count": 30,
   "metadata": {},
   "outputs": [
    {
     "data": {
      "text/html": [
       "<div>\n",
       "<style scoped>\n",
       "    .dataframe tbody tr th:only-of-type {\n",
       "        vertical-align: middle;\n",
       "    }\n",
       "\n",
       "    .dataframe tbody tr th {\n",
       "        vertical-align: top;\n",
       "    }\n",
       "\n",
       "    .dataframe thead th {\n",
       "        text-align: right;\n",
       "    }\n",
       "</style>\n",
       "<table border=\"1\" class=\"dataframe\">\n",
       "  <thead>\n",
       "    <tr style=\"text-align: right;\">\n",
       "      <th></th>\n",
       "      <th>ADDRTYPE_Alley</th>\n",
       "      <th>ADDRTYPE_Block</th>\n",
       "      <th>ADDRTYPE_Intersection</th>\n",
       "      <th>JUNCTIONTYPE_At Intersection (but not related to intersection)</th>\n",
       "      <th>JUNCTIONTYPE_At Intersection (intersection related)</th>\n",
       "      <th>JUNCTIONTYPE_Driveway Junction</th>\n",
       "      <th>JUNCTIONTYPE_Mid-Block (but intersection related)</th>\n",
       "      <th>JUNCTIONTYPE_Mid-Block (not related to intersection)</th>\n",
       "      <th>JUNCTIONTYPE_Ramp Junction</th>\n",
       "      <th>WEATHER_Blowing Sand/Dirt</th>\n",
       "      <th>...</th>\n",
       "      <th>ROADCOND_Sand/Mud/Dirt</th>\n",
       "      <th>ROADCOND_Snow/Slush</th>\n",
       "      <th>ROADCOND_Standing Water</th>\n",
       "      <th>ROADCOND_Wet</th>\n",
       "      <th>LIGHTCOND_Dark - No Street Lights</th>\n",
       "      <th>LIGHTCOND_Dark - Street Lights Off</th>\n",
       "      <th>LIGHTCOND_Dark - Street Lights On</th>\n",
       "      <th>LIGHTCOND_Dawn</th>\n",
       "      <th>LIGHTCOND_Daylight</th>\n",
       "      <th>LIGHTCOND_Dusk</th>\n",
       "    </tr>\n",
       "  </thead>\n",
       "  <tbody>\n",
       "    <tr>\n",
       "      <th>0</th>\n",
       "      <td>0</td>\n",
       "      <td>0</td>\n",
       "      <td>1</td>\n",
       "      <td>0</td>\n",
       "      <td>1</td>\n",
       "      <td>0</td>\n",
       "      <td>0</td>\n",
       "      <td>0</td>\n",
       "      <td>0</td>\n",
       "      <td>0</td>\n",
       "      <td>...</td>\n",
       "      <td>0</td>\n",
       "      <td>0</td>\n",
       "      <td>0</td>\n",
       "      <td>1</td>\n",
       "      <td>0</td>\n",
       "      <td>0</td>\n",
       "      <td>0</td>\n",
       "      <td>0</td>\n",
       "      <td>1</td>\n",
       "      <td>0</td>\n",
       "    </tr>\n",
       "    <tr>\n",
       "      <th>1</th>\n",
       "      <td>0</td>\n",
       "      <td>1</td>\n",
       "      <td>0</td>\n",
       "      <td>0</td>\n",
       "      <td>0</td>\n",
       "      <td>0</td>\n",
       "      <td>0</td>\n",
       "      <td>1</td>\n",
       "      <td>0</td>\n",
       "      <td>0</td>\n",
       "      <td>...</td>\n",
       "      <td>0</td>\n",
       "      <td>0</td>\n",
       "      <td>0</td>\n",
       "      <td>1</td>\n",
       "      <td>0</td>\n",
       "      <td>0</td>\n",
       "      <td>1</td>\n",
       "      <td>0</td>\n",
       "      <td>0</td>\n",
       "      <td>0</td>\n",
       "    </tr>\n",
       "    <tr>\n",
       "      <th>2</th>\n",
       "      <td>0</td>\n",
       "      <td>1</td>\n",
       "      <td>0</td>\n",
       "      <td>0</td>\n",
       "      <td>0</td>\n",
       "      <td>0</td>\n",
       "      <td>0</td>\n",
       "      <td>1</td>\n",
       "      <td>0</td>\n",
       "      <td>0</td>\n",
       "      <td>...</td>\n",
       "      <td>0</td>\n",
       "      <td>0</td>\n",
       "      <td>0</td>\n",
       "      <td>0</td>\n",
       "      <td>0</td>\n",
       "      <td>0</td>\n",
       "      <td>0</td>\n",
       "      <td>0</td>\n",
       "      <td>1</td>\n",
       "      <td>0</td>\n",
       "    </tr>\n",
       "    <tr>\n",
       "      <th>3</th>\n",
       "      <td>0</td>\n",
       "      <td>1</td>\n",
       "      <td>0</td>\n",
       "      <td>0</td>\n",
       "      <td>0</td>\n",
       "      <td>0</td>\n",
       "      <td>0</td>\n",
       "      <td>1</td>\n",
       "      <td>0</td>\n",
       "      <td>0</td>\n",
       "      <td>...</td>\n",
       "      <td>0</td>\n",
       "      <td>0</td>\n",
       "      <td>0</td>\n",
       "      <td>0</td>\n",
       "      <td>0</td>\n",
       "      <td>0</td>\n",
       "      <td>0</td>\n",
       "      <td>0</td>\n",
       "      <td>1</td>\n",
       "      <td>0</td>\n",
       "    </tr>\n",
       "    <tr>\n",
       "      <th>4</th>\n",
       "      <td>0</td>\n",
       "      <td>0</td>\n",
       "      <td>1</td>\n",
       "      <td>0</td>\n",
       "      <td>1</td>\n",
       "      <td>0</td>\n",
       "      <td>0</td>\n",
       "      <td>0</td>\n",
       "      <td>0</td>\n",
       "      <td>0</td>\n",
       "      <td>...</td>\n",
       "      <td>0</td>\n",
       "      <td>0</td>\n",
       "      <td>0</td>\n",
       "      <td>1</td>\n",
       "      <td>0</td>\n",
       "      <td>0</td>\n",
       "      <td>0</td>\n",
       "      <td>0</td>\n",
       "      <td>1</td>\n",
       "      <td>0</td>\n",
       "    </tr>\n",
       "  </tbody>\n",
       "</table>\n",
       "<p>5 rows × 30 columns</p>\n",
       "</div>"
      ],
      "text/plain": [
       "   ADDRTYPE_Alley  ADDRTYPE_Block  ADDRTYPE_Intersection  \\\n",
       "0               0               0                      1   \n",
       "1               0               1                      0   \n",
       "2               0               1                      0   \n",
       "3               0               1                      0   \n",
       "4               0               0                      1   \n",
       "\n",
       "   JUNCTIONTYPE_At Intersection (but not related to intersection)  \\\n",
       "0                                                  0                \n",
       "1                                                  0                \n",
       "2                                                  0                \n",
       "3                                                  0                \n",
       "4                                                  0                \n",
       "\n",
       "   JUNCTIONTYPE_At Intersection (intersection related)  \\\n",
       "0                                                  1     \n",
       "1                                                  0     \n",
       "2                                                  0     \n",
       "3                                                  0     \n",
       "4                                                  1     \n",
       "\n",
       "   JUNCTIONTYPE_Driveway Junction  \\\n",
       "0                               0   \n",
       "1                               0   \n",
       "2                               0   \n",
       "3                               0   \n",
       "4                               0   \n",
       "\n",
       "   JUNCTIONTYPE_Mid-Block (but intersection related)  \\\n",
       "0                                                  0   \n",
       "1                                                  0   \n",
       "2                                                  0   \n",
       "3                                                  0   \n",
       "4                                                  0   \n",
       "\n",
       "   JUNCTIONTYPE_Mid-Block (not related to intersection)  \\\n",
       "0                                                  0      \n",
       "1                                                  1      \n",
       "2                                                  1      \n",
       "3                                                  1      \n",
       "4                                                  0      \n",
       "\n",
       "   JUNCTIONTYPE_Ramp Junction  WEATHER_Blowing Sand/Dirt  ...  \\\n",
       "0                           0                          0  ...   \n",
       "1                           0                          0  ...   \n",
       "2                           0                          0  ...   \n",
       "3                           0                          0  ...   \n",
       "4                           0                          0  ...   \n",
       "\n",
       "   ROADCOND_Sand/Mud/Dirt  ROADCOND_Snow/Slush  ROADCOND_Standing Water  \\\n",
       "0                       0                    0                        0   \n",
       "1                       0                    0                        0   \n",
       "2                       0                    0                        0   \n",
       "3                       0                    0                        0   \n",
       "4                       0                    0                        0   \n",
       "\n",
       "   ROADCOND_Wet  LIGHTCOND_Dark - No Street Lights  \\\n",
       "0             1                                  0   \n",
       "1             1                                  0   \n",
       "2             0                                  0   \n",
       "3             0                                  0   \n",
       "4             1                                  0   \n",
       "\n",
       "   LIGHTCOND_Dark - Street Lights Off  LIGHTCOND_Dark - Street Lights On  \\\n",
       "0                                   0                                  0   \n",
       "1                                   0                                  1   \n",
       "2                                   0                                  0   \n",
       "3                                   0                                  0   \n",
       "4                                   0                                  0   \n",
       "\n",
       "   LIGHTCOND_Dawn  LIGHTCOND_Daylight  LIGHTCOND_Dusk  \n",
       "0               0                   1               0  \n",
       "1               0                   0               0  \n",
       "2               0                   1               0  \n",
       "3               0                   1               0  \n",
       "4               0                   1               0  \n",
       "\n",
       "[5 rows x 30 columns]"
      ]
     },
     "execution_count": 30,
     "metadata": {},
     "output_type": "execute_result"
    }
   ],
   "source": [
    "df_dummy = pd.get_dummies(df_5[[\"ADDRTYPE\",\"JUNCTIONTYPE\",\"WEATHER\",\"ROADCOND\",\"LIGHTCOND\"]])\n",
    "df_dummy.head()"
   ]
  },
  {
   "cell_type": "markdown",
   "metadata": {},
   "source": [
    "Additionally, we transforme severity2 to “1” and severity1 to “0”."
   ]
  },
  {
   "cell_type": "code",
   "execution_count": 31,
   "metadata": {},
   "outputs": [],
   "source": [
    "df_dummy[\"SEVERITY\"] = df_5[\"SEVERITYCODE\"].map(lambda x: 1 if x == 2 else 0)"
   ]
  },
  {
   "cell_type": "markdown",
   "metadata": {},
   "source": [
    "Split data into train data and test data. We construct four models, Decision Tree without and with balanced and Random Forest without and with balanced."
   ]
  },
  {
   "cell_type": "code",
   "execution_count": 33,
   "metadata": {},
   "outputs": [],
   "source": [
    "from sklearn.model_selection import train_test_split\n",
    "\n",
    "X = df_dummy.drop(\"SEVERITY\", axis = 1)\n",
    "y = df_dummy[\"SEVERITY\"]\n",
    "\n",
    "X_trainDT, X_testDT, y_trainDT, y_testDT = train_test_split( X, y, test_size=0.2, random_state=4)"
   ]
  },
  {
   "cell_type": "markdown",
   "metadata": {},
   "source": [
    "## Model1 : Decision Tree without balanced"
   ]
  },
  {
   "cell_type": "markdown",
   "metadata": {},
   "source": [
    "Decision Tree model has parameters which we can designate. We chose entropy as “criterion” to measure the impurity. The maximum depth is determined by grid search with cross-validation which optimizes the maximum depth. In this report, we change the maximum depth from 2  to 11."
   ]
  },
  {
   "cell_type": "code",
   "execution_count": 34,
   "metadata": {},
   "outputs": [
    {
     "data": {
      "text/plain": [
       "GridSearchCV(cv=10, estimator=DecisionTreeClassifier(criterion='entropy'),\n",
       "             param_grid={'max_depth': range(2, 11)})"
      ]
     },
     "execution_count": 34,
     "metadata": {},
     "output_type": "execute_result"
    }
   ],
   "source": [
    "from sklearn.tree import DecisionTreeClassifier\n",
    "from sklearn.model_selection import GridSearchCV\n",
    "\n",
    "drugTree = DecisionTreeClassifier(criterion=\"entropy\")\n",
    "\n",
    "param_grid = {'max_depth' : range(2,11)}\n",
    "\n",
    "cv =GridSearchCV(drugTree, param_grid = param_grid, cv =10)\n",
    "cv.fit(X_trainDT,y_trainDT)"
   ]
  },
  {
   "cell_type": "markdown",
   "metadata": {},
   "source": [
    "Confirm the best parameter."
   ]
  },
  {
   "cell_type": "code",
   "execution_count": 35,
   "metadata": {},
   "outputs": [
    {
     "data": {
      "text/plain": [
       "{'max_depth': 2}"
      ]
     },
     "execution_count": 35,
     "metadata": {},
     "output_type": "execute_result"
    }
   ],
   "source": [
    "cv.best_params_"
   ]
  },
  {
   "cell_type": "markdown",
   "metadata": {},
   "source": [
    "Now that we know the best parameter is 2, we set max_depth=2."
   ]
  },
  {
   "cell_type": "code",
   "execution_count": 36,
   "metadata": {},
   "outputs": [
    {
     "name": "stdout",
     "output_type": "stream",
     "text": [
      "accuracy(train) : 0.701\n",
      "accuracy(test) : 0.704\n"
     ]
    }
   ],
   "source": [
    "drugTree = DecisionTreeClassifier(criterion=\"entropy\", max_depth = 2)\n",
    "drugTree.fit(X_trainDT,y_trainDT)\n",
    "\n",
    "y_predDT = drugTree.predict(X_testDT)\n",
    "\n",
    "print(\"accuracy(train) : {:.3f}\" .format(drugTree.score(X_trainDT, y_trainDT)))\n",
    "print(\"accuracy(test) : {:.3f}\" .format(drugTree.score(X_testDT, y_testDT)))"
   ]
  },
  {
   "cell_type": "markdown",
   "metadata": {},
   "source": [
    "Calculate precision, recall and f1-score for model 1."
   ]
  },
  {
   "cell_type": "code",
   "execution_count": 38,
   "metadata": {},
   "outputs": [
    {
     "name": "stdout",
     "output_type": "stream",
     "text": [
      "              precision    recall  f1-score   support\n",
      "\n",
      "           0       0.70      1.00      0.83     16915\n",
      "           1       0.00      0.00      0.00      7097\n",
      "\n",
      "    accuracy                           0.70     24012\n",
      "   macro avg       0.35      0.50      0.41     24012\n",
      "weighted avg       0.50      0.70      0.58     24012\n",
      "\n"
     ]
    },
    {
     "name": "stderr",
     "output_type": "stream",
     "text": [
      "/opt/conda/envs/Python-3.7-main/lib/python3.7/site-packages/sklearn/metrics/_classification.py:1221: UndefinedMetricWarning: Precision and F-score are ill-defined and being set to 0.0 in labels with no predicted samples. Use `zero_division` parameter to control this behavior.\n",
      "  _warn_prf(average, modifier, msg_start, len(result))\n"
     ]
    }
   ],
   "source": [
    "from sklearn.metrics import classification_report\n",
    "print(classification_report(y_testDT, y_predDT))"
   ]
  },
  {
   "cell_type": "markdown",
   "metadata": {},
   "source": [
    "From the results of precision, recall, f1-score of Severity 2, this model is not considered good."
   ]
  },
  {
   "cell_type": "markdown",
   "metadata": {},
   "source": [
    "## Model2 : Deceision Tree with balanced"
   ]
  },
  {
   "cell_type": "markdown",
   "metadata": {},
   "source": [
    "In general, we should make a balanced dataset when the classes are not equally distributed. In Decision Tree, we can realize a balanced dataset by designating the parameter, “class_weight”."
   ]
  },
  {
   "cell_type": "code",
   "execution_count": 39,
   "metadata": {},
   "outputs": [
    {
     "data": {
      "text/plain": [
       "GridSearchCV(cv=10,\n",
       "             estimator=DecisionTreeClassifier(class_weight='balanced',\n",
       "                                              criterion='entropy'),\n",
       "             param_grid={'max_depth': range(2, 11)})"
      ]
     },
     "execution_count": 39,
     "metadata": {},
     "output_type": "execute_result"
    }
   ],
   "source": [
    "drugTree = DecisionTreeClassifier(class_weight='balanced', criterion=\"entropy\")\n",
    "\n",
    "param_grid = {'max_depth' : range(2,11)}\n",
    "\n",
    "cv =GridSearchCV(drugTree, param_grid = param_grid, cv =10)\n",
    "cv.fit(X_trainDT,y_trainDT)"
   ]
  },
  {
   "cell_type": "markdown",
   "metadata": {},
   "source": [
    "Again check the best parameter and use this value."
   ]
  },
  {
   "cell_type": "code",
   "execution_count": 41,
   "metadata": {},
   "outputs": [
    {
     "data": {
      "text/plain": [
       "{'max_depth': 2}"
      ]
     },
     "execution_count": 41,
     "metadata": {},
     "output_type": "execute_result"
    }
   ],
   "source": [
    "cv.best_params_"
   ]
  },
  {
   "cell_type": "code",
   "execution_count": 42,
   "metadata": {},
   "outputs": [
    {
     "name": "stdout",
     "output_type": "stream",
     "text": [
      "accuracy(train) : 0.627\n",
      "accuracy(test) : 0.631\n"
     ]
    }
   ],
   "source": [
    "drugTree = DecisionTreeClassifier(class_weight='balanced', criterion=\"entropy\", max_depth = 2)\n",
    "drugTree.fit(X_trainDT,y_trainDT)\n",
    "\n",
    "y_predDT = drugTree.predict(X_testDT)\n",
    "\n",
    "print(\"accuracy(train) : {:.3f}\" .format(drugTree.score(X_trainDT, y_trainDT)))\n",
    "print(\"accuracy(test) : {:.3f}\" .format(drugTree.score(X_testDT, y_testDT)))"
   ]
  },
  {
   "cell_type": "code",
   "execution_count": 43,
   "metadata": {},
   "outputs": [
    {
     "name": "stdout",
     "output_type": "stream",
     "text": [
      "              precision    recall  f1-score   support\n",
      "\n",
      "           0       0.77      0.68      0.72     16915\n",
      "           1       0.40      0.52      0.45      7097\n",
      "\n",
      "    accuracy                           0.63     24012\n",
      "   macro avg       0.59      0.60      0.59     24012\n",
      "weighted avg       0.66      0.63      0.64     24012\n",
      "\n"
     ]
    }
   ],
   "source": [
    "print(classification_report(y_testDT, y_predDT))"
   ]
  },
  {
   "cell_type": "markdown",
   "metadata": {},
   "source": [
    "This model is better than the former one. Let’s interpret the result of the Decision Tree model with balanced by visualization of tree."
   ]
  },
  {
   "cell_type": "code",
   "execution_count": 44,
   "metadata": {},
   "outputs": [
    {
     "data": {
      "image/png": "[encoded data removed]",
      "text/plain": [
       "<Figure size 1080x576 with 1 Axes>"
      ]
     },
     "metadata": {},
     "output_type": "display_data"
    }
   ],
   "source": [
    "import matplotlib.pyplot as plt\n",
    "from sklearn.tree import plot_tree\n",
    "\n",
    "fig = plt.figure(figsize=(15, 8))\n",
    "ax = fig.add_subplot()\n",
    "plot_tree(drugTree, filled=True);"
   ]
  },
  {
   "cell_type": "markdown",
   "metadata": {},
   "source": [
    "X[4], X[7], and X[26] mean “At Intersection (intersection related)”, “At Intersection (but not related to intersection)” and “Dusk” respectively. The left side of the value is the number of severity1 collision and the right side is that of severity2 collision. Note that convert categorical variables into indicator variables. For example, “X[4]<=0.5 is True” means the collision not “At Intersection (intersection related)” and “X[4]<=0.5 is False” shows the collision “At Intersection (intersection related)”. From the first step of the tree, we can decrease the entropy. In addition, we can obtain more severity2 collision samples when “X[4]<=0.5 is False”. Therefore, we understand that “At Intersection (intersection related)” is important factor. At the second step, it is difficult to distinguish severity1 and severity2 case by the surrounding factors because the entropies increase."
   ]
  },
  {
   "cell_type": "markdown",
   "metadata": {},
   "source": [
    "## Model3 : Random Forest without balanced"
   ]
  },
  {
   "cell_type": "code",
   "execution_count": 45,
   "metadata": {},
   "outputs": [],
   "source": [
    "X_trainRF, X_testRF, y_trainRF, y_testRF = train_test_split( X, y, test_size=0.2, random_state=4)"
   ]
  },
  {
   "cell_type": "markdown",
   "metadata": {},
   "source": [
    "In Random Forest, we use 2 as the maximum depth because grid search in Decision Tree showed that the best depth was 2. “Criterion” is set to entropy. We set 50 as “n_estimators” which means the number of created decision trees."
   ]
  },
  {
   "cell_type": "code",
   "execution_count": 46,
   "metadata": {},
   "outputs": [
    {
     "name": "stdout",
     "output_type": "stream",
     "text": [
      "TrainAccuracy: 0.7005497365845532\n"
     ]
    }
   ],
   "source": [
    "from sklearn.ensemble import RandomForestClassifier\n",
    "\n",
    "random_forest = RandomForestClassifier(max_depth=2, n_estimators=50, criterion=\"entropy\",random_state=4)\n",
    "random_forest.fit(X_trainRF, y_trainRF)\n",
    "\n",
    "y_predRF = random_forest.predict(X_testRF)\n",
    "\n",
    "trainaccuracy_random_forest = random_forest.score(X_trainRF, y_trainRF)\n",
    "print('TrainAccuracy: {}'.format(trainaccuracy_random_forest))"
   ]
  },
  {
   "cell_type": "markdown",
   "metadata": {},
   "source": [
    "Calculate precision, recall and f1-score for model 3."
   ]
  },
  {
   "cell_type": "code",
   "execution_count": 47,
   "metadata": {},
   "outputs": [
    {
     "name": "stdout",
     "output_type": "stream",
     "text": [
      "              precision    recall  f1-score   support\n",
      "\n",
      "           0       0.70      1.00      0.83     16915\n",
      "           1       0.00      0.00      0.00      7097\n",
      "\n",
      "    accuracy                           0.70     24012\n",
      "   macro avg       0.35      0.50      0.41     24012\n",
      "weighted avg       0.50      0.70      0.58     24012\n",
      "\n"
     ]
    },
    {
     "name": "stderr",
     "output_type": "stream",
     "text": [
      "/opt/conda/envs/Python-3.7-main/lib/python3.7/site-packages/sklearn/metrics/_classification.py:1221: UndefinedMetricWarning: Precision and F-score are ill-defined and being set to 0.0 in labels with no predicted samples. Use `zero_division` parameter to control this behavior.\n",
      "  _warn_prf(average, modifier, msg_start, len(result))\n"
     ]
    }
   ],
   "source": [
    "print(classification_report(y_testRF, y_predRF))"
   ]
  },
  {
   "cell_type": "markdown",
   "metadata": {},
   "source": [
    "From the results of precision, recall, f1-score of Severity 2, this model is not considered good like model 1."
   ]
  },
  {
   "cell_type": "markdown",
   "metadata": {},
   "source": [
    "## Model4 : Random Forest with balanced"
   ]
  },
  {
   "cell_type": "markdown",
   "metadata": {},
   "source": [
    " As we did in Decision Tree, we try balanced dataset. In Random Forest, we can realise this by setting class_weight='balanced_subsample'."
   ]
  },
  {
   "cell_type": "code",
   "execution_count": 48,
   "metadata": {},
   "outputs": [
    {
     "name": "stdout",
     "output_type": "stream",
     "text": [
      "TrainAccuracy: 0.6232950877704433\n"
     ]
    }
   ],
   "source": [
    "random_forest = RandomForestClassifier(class_weight='balanced_subsample', max_depth=2, n_estimators=50,criterion=\"entropy\", random_state=4)\n",
    "random_forest.fit(X_trainRF, y_trainRF)\n",
    "\n",
    "y_predRF = random_forest.predict(X_testRF)\n",
    "\n",
    "trainaccuracy_random_forest = random_forest.score(X_trainRF, y_trainRF)\n",
    "print('TrainAccuracy: {}'.format(trainaccuracy_random_forest))"
   ]
  },
  {
   "cell_type": "code",
   "execution_count": 49,
   "metadata": {},
   "outputs": [
    {
     "name": "stdout",
     "output_type": "stream",
     "text": [
      "              precision    recall  f1-score   support\n",
      "\n",
      "           0       0.77      0.67      0.72     16915\n",
      "           1       0.40      0.53      0.46      7097\n",
      "\n",
      "    accuracy                           0.63     24012\n",
      "   macro avg       0.59      0.60      0.59     24012\n",
      "weighted avg       0.66      0.63      0.64     24012\n",
      "\n"
     ]
    }
   ],
   "source": [
    "print(classification_report(y_testRF, y_predRF))"
   ]
  },
  {
   "cell_type": "markdown",
   "metadata": {},
   "source": [
    "This is the almost same result as model 2. Although we can visualize trees like Decisin Tree, we will omit here because there appear 50 trees. Instead we confirm the influence of each feature."
   ]
  },
  {
   "cell_type": "code",
   "execution_count": 50,
   "metadata": {},
   "outputs": [
    {
     "data": {
      "text/html": [
       "<div>\n",
       "<style scoped>\n",
       "    .dataframe tbody tr th:only-of-type {\n",
       "        vertical-align: middle;\n",
       "    }\n",
       "\n",
       "    .dataframe tbody tr th {\n",
       "        vertical-align: top;\n",
       "    }\n",
       "\n",
       "    .dataframe thead th {\n",
       "        text-align: right;\n",
       "    }\n",
       "</style>\n",
       "<table border=\"1\" class=\"dataframe\">\n",
       "  <thead>\n",
       "    <tr style=\"text-align: right;\">\n",
       "      <th></th>\n",
       "      <th>Variable</th>\n",
       "      <th>Importance</th>\n",
       "    </tr>\n",
       "  </thead>\n",
       "  <tbody>\n",
       "    <tr>\n",
       "      <th>0</th>\n",
       "      <td>ADDRTYPE_Alley</td>\n",
       "      <td>0.000138</td>\n",
       "    </tr>\n",
       "    <tr>\n",
       "      <th>1</th>\n",
       "      <td>ADDRTYPE_Block</td>\n",
       "      <td>0.263467</td>\n",
       "    </tr>\n",
       "    <tr>\n",
       "      <th>2</th>\n",
       "      <td>ADDRTYPE_Intersection</td>\n",
       "      <td>0.197743</td>\n",
       "    </tr>\n",
       "    <tr>\n",
       "      <th>3</th>\n",
       "      <td>JUNCTIONTYPE_At Intersection (but not related ...</td>\n",
       "      <td>0.000394</td>\n",
       "    </tr>\n",
       "    <tr>\n",
       "      <th>4</th>\n",
       "      <td>JUNCTIONTYPE_At Intersection (intersection rel...</td>\n",
       "      <td>0.121970</td>\n",
       "    </tr>\n",
       "    <tr>\n",
       "      <th>5</th>\n",
       "      <td>JUNCTIONTYPE_Driveway Junction</td>\n",
       "      <td>0.006227</td>\n",
       "    </tr>\n",
       "    <tr>\n",
       "      <th>6</th>\n",
       "      <td>JUNCTIONTYPE_Mid-Block (but intersection related)</td>\n",
       "      <td>0.008598</td>\n",
       "    </tr>\n",
       "    <tr>\n",
       "      <th>7</th>\n",
       "      <td>JUNCTIONTYPE_Mid-Block (not related to interse...</td>\n",
       "      <td>0.269645</td>\n",
       "    </tr>\n",
       "    <tr>\n",
       "      <th>8</th>\n",
       "      <td>JUNCTIONTYPE_Ramp Junction</td>\n",
       "      <td>0.000000</td>\n",
       "    </tr>\n",
       "    <tr>\n",
       "      <th>9</th>\n",
       "      <td>WEATHER_Blowing Sand/Dirt</td>\n",
       "      <td>0.000000</td>\n",
       "    </tr>\n",
       "    <tr>\n",
       "      <th>10</th>\n",
       "      <td>WEATHER_Clear</td>\n",
       "      <td>0.000025</td>\n",
       "    </tr>\n",
       "    <tr>\n",
       "      <th>11</th>\n",
       "      <td>WEATHER_Fog/Smog/Smoke</td>\n",
       "      <td>0.000113</td>\n",
       "    </tr>\n",
       "    <tr>\n",
       "      <th>12</th>\n",
       "      <td>WEATHER_Overcast</td>\n",
       "      <td>0.000000</td>\n",
       "    </tr>\n",
       "    <tr>\n",
       "      <th>13</th>\n",
       "      <td>WEATHER_Partly Cloudy</td>\n",
       "      <td>0.000000</td>\n",
       "    </tr>\n",
       "    <tr>\n",
       "      <th>14</th>\n",
       "      <td>WEATHER_Raining</td>\n",
       "      <td>0.011700</td>\n",
       "    </tr>\n",
       "    <tr>\n",
       "      <th>15</th>\n",
       "      <td>WEATHER_Severe Crosswind</td>\n",
       "      <td>0.000050</td>\n",
       "    </tr>\n",
       "    <tr>\n",
       "      <th>16</th>\n",
       "      <td>WEATHER_Sleet/Hail/Freezing Rain</td>\n",
       "      <td>0.000000</td>\n",
       "    </tr>\n",
       "    <tr>\n",
       "      <th>17</th>\n",
       "      <td>WEATHER_Snowing</td>\n",
       "      <td>0.016445</td>\n",
       "    </tr>\n",
       "    <tr>\n",
       "      <th>18</th>\n",
       "      <td>ROADCOND_Dry</td>\n",
       "      <td>0.000532</td>\n",
       "    </tr>\n",
       "    <tr>\n",
       "      <th>19</th>\n",
       "      <td>ROADCOND_Ice</td>\n",
       "      <td>0.000735</td>\n",
       "    </tr>\n",
       "    <tr>\n",
       "      <th>20</th>\n",
       "      <td>ROADCOND_Sand/Mud/Dirt</td>\n",
       "      <td>0.000000</td>\n",
       "    </tr>\n",
       "    <tr>\n",
       "      <th>21</th>\n",
       "      <td>ROADCOND_Snow/Slush</td>\n",
       "      <td>0.000257</td>\n",
       "    </tr>\n",
       "    <tr>\n",
       "      <th>22</th>\n",
       "      <td>ROADCOND_Standing Water</td>\n",
       "      <td>0.000000</td>\n",
       "    </tr>\n",
       "    <tr>\n",
       "      <th>23</th>\n",
       "      <td>ROADCOND_Wet</td>\n",
       "      <td>0.000614</td>\n",
       "    </tr>\n",
       "    <tr>\n",
       "      <th>24</th>\n",
       "      <td>LIGHTCOND_Dark - No Street Lights</td>\n",
       "      <td>0.004772</td>\n",
       "    </tr>\n",
       "    <tr>\n",
       "      <th>25</th>\n",
       "      <td>LIGHTCOND_Dark - Street Lights Off</td>\n",
       "      <td>0.005335</td>\n",
       "    </tr>\n",
       "    <tr>\n",
       "      <th>26</th>\n",
       "      <td>LIGHTCOND_Dark - Street Lights On</td>\n",
       "      <td>0.037004</td>\n",
       "    </tr>\n",
       "    <tr>\n",
       "      <th>27</th>\n",
       "      <td>LIGHTCOND_Dawn</td>\n",
       "      <td>0.000059</td>\n",
       "    </tr>\n",
       "    <tr>\n",
       "      <th>28</th>\n",
       "      <td>LIGHTCOND_Daylight</td>\n",
       "      <td>0.054166</td>\n",
       "    </tr>\n",
       "    <tr>\n",
       "      <th>29</th>\n",
       "      <td>LIGHTCOND_Dusk</td>\n",
       "      <td>0.000010</td>\n",
       "    </tr>\n",
       "  </tbody>\n",
       "</table>\n",
       "</div>"
      ],
      "text/plain": [
       "                                             Variable  Importance\n",
       "0                                      ADDRTYPE_Alley    0.000138\n",
       "1                                      ADDRTYPE_Block    0.263467\n",
       "2                               ADDRTYPE_Intersection    0.197743\n",
       "3   JUNCTIONTYPE_At Intersection (but not related ...    0.000394\n",
       "4   JUNCTIONTYPE_At Intersection (intersection rel...    0.121970\n",
       "5                      JUNCTIONTYPE_Driveway Junction    0.006227\n",
       "6   JUNCTIONTYPE_Mid-Block (but intersection related)    0.008598\n",
       "7   JUNCTIONTYPE_Mid-Block (not related to interse...    0.269645\n",
       "8                          JUNCTIONTYPE_Ramp Junction    0.000000\n",
       "9                           WEATHER_Blowing Sand/Dirt    0.000000\n",
       "10                                      WEATHER_Clear    0.000025\n",
       "11                             WEATHER_Fog/Smog/Smoke    0.000113\n",
       "12                                   WEATHER_Overcast    0.000000\n",
       "13                              WEATHER_Partly Cloudy    0.000000\n",
       "14                                    WEATHER_Raining    0.011700\n",
       "15                           WEATHER_Severe Crosswind    0.000050\n",
       "16                   WEATHER_Sleet/Hail/Freezing Rain    0.000000\n",
       "17                                    WEATHER_Snowing    0.016445\n",
       "18                                       ROADCOND_Dry    0.000532\n",
       "19                                       ROADCOND_Ice    0.000735\n",
       "20                             ROADCOND_Sand/Mud/Dirt    0.000000\n",
       "21                                ROADCOND_Snow/Slush    0.000257\n",
       "22                            ROADCOND_Standing Water    0.000000\n",
       "23                                       ROADCOND_Wet    0.000614\n",
       "24                  LIGHTCOND_Dark - No Street Lights    0.004772\n",
       "25                 LIGHTCOND_Dark - Street Lights Off    0.005335\n",
       "26                  LIGHTCOND_Dark - Street Lights On    0.037004\n",
       "27                                     LIGHTCOND_Dawn    0.000059\n",
       "28                                 LIGHTCOND_Daylight    0.054166\n",
       "29                                     LIGHTCOND_Dusk    0.000010"
      ]
     },
     "execution_count": 50,
     "metadata": {},
     "output_type": "execute_result"
    }
   ],
   "source": [
    "importance = pd.DataFrame({ \"Variable\":X_trainRF.columns, \"Importance\" :random_forest.feature_importances_})\n",
    "importance"
   ]
  },
  {
   "cell_type": "markdown",
   "metadata": {},
   "source": [
    "The larger the rate of “Importance” is, the more important the feature is to make a classification model. This result shows that JUNKCTIONTYPE_At intersection(intersection related) is more important. This is consistent with the model 2 result."
   ]
  }
 ],
 "metadata": {
  "kernelspec": {
   "display_name": "Python 3.7",
   "language": "python",
   "name": "python3"
  },
  "language_info": {
   "codemirror_mode": {
    "name": "ipython",
    "version": 3
   },
   "file_extension": ".py",
   "mimetype": "text/x-python",
   "name": "python",
   "nbconvert_exporter": "python",
   "pygments_lexer": "ipython3",
   "version": "3.7.9"
  }
 },
 "nbformat": 4,
 "nbformat_minor": 1
}
